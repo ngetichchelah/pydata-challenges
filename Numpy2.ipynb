{
 "cells": [
  {
   "cell_type": "markdown",
   "metadata": {},
   "source": [
    "# Numpy Exercise 2\n",
    "\n",
    "### All of the questions in this exercise are attributed to rougier/numpy-100"
   ]
  },
  {
   "cell_type": "code",
   "execution_count": 1,
   "metadata": {},
   "outputs": [],
   "source": [
    "import numpy as np"
   ]
  },
  {
   "cell_type": "markdown",
   "metadata": {},
   "source": [
    "#### 16. How to add a border (filled with 0's) around an existing array? (★☆☆)"
   ]
  },
  {
   "cell_type": "code",
   "execution_count": 2,
   "metadata": {},
   "outputs": [
    {
     "name": "stdout",
     "output_type": "stream",
     "text": [
      "Original array:\n",
      "[[1 2 3]\n",
      " [4 5 6]\n",
      " [7 8 9]]\n",
      "\n",
      "Bordered array:\n",
      "[[0 0 0 0 0]\n",
      " [0 1 2 3 0]\n",
      " [0 4 5 6 0]\n",
      " [0 7 8 9 0]\n",
      " [0 0 0 0 0]]\n",
      "\n"
     ]
    }
   ],
   "source": [
    "# Original array\n",
    "arr = np.array([[1, 2, 3],\n",
    "                [4, 5, 6],\n",
    "                [7, 8, 9]])\n",
    "\n",
    "print(\"Original array:\")\n",
    "print(arr)\n",
    "print()\n",
    "\n",
    "\n",
    "bordered_arr = np.pad(arr, pad_width=1, mode='constant', constant_values=0)\n",
    "\n",
    "print(\"Bordered array:\")\n",
    "print(bordered_arr)\n",
    "print()"
   ]
  },
  {
   "cell_type": "code",
   "execution_count": null,
   "metadata": {},
   "outputs": [
    {
     "name": "stdout",
     "output_type": "stream",
     "text": [
      "Using np.zeros() and slicing:\n",
      "[[0 0 0 0 0]\n",
      " [0 1 2 3 0]\n",
      " [0 4 5 6 0]\n",
      " [0 7 8 9 0]\n",
      " [0 0 0 0 0]]\n",
      "\n"
     ]
    }
   ],
   "source": [
    "rows, cols = arr.shape\n",
    "bordered2 = np.zeros((rows + 2, cols + 2), dtype=arr.dtype)\n",
    "bordered2[1:-1, 1:-1] = arr\n",
    "print(\"Using np.zeros() and slicing:\")\n",
    "print(bordered2)\n",
    "print()"
   ]
  },
  {
   "cell_type": "code",
   "execution_count": null,
   "metadata": {},
   "outputs": [
    {
     "name": "stdout",
     "output_type": "stream",
     "text": [
      "1. CONSTANT mode (fills with 0s):\n",
      "[[0 0 0 0 0 0 0]\n",
      " [0 0 0 0 0 0 0]\n",
      " [0 0 1 2 3 0 0]\n",
      " [0 0 4 5 6 0 0]\n",
      " [0 0 0 0 0 0 0]\n",
      " [0 0 0 0 0 0 0]]\n",
      "\n",
      "2. EDGE mode (repeats edge values):\n",
      "[[1 1 2 3 3]\n",
      " [1 1 2 3 3]\n",
      " [4 4 5 6 6]\n",
      " [4 4 5 6 6]]\n",
      "\n",
      "3. REFLECT mode (mirrors without repeating edge):\n",
      "[[5 4 5 6 5]\n",
      " [2 1 2 3 2]\n",
      " [5 4 5 6 5]\n",
      " [2 1 2 3 2]]\n",
      "\n",
      "5. WRAP mode (wraps around circularly):\n",
      "[[2 3 1 2 3 1 2]\n",
      " [5 6 4 5 6 4 5]\n",
      " [2 3 1 2 3 1 2]\n",
      " [5 6 4 5 6 4 5]\n",
      " [2 3 1 2 3 1 2]\n",
      " [5 6 4 5 6 4 5]]\n",
      "\n"
     ]
    }
   ],
   "source": [
    "demo_arr = np.array([[1, 2, 3],\n",
    "                     [4, 5, 6]])\n",
    "\n",
    "constant_pad = np.pad(demo_arr, pad_width=2, mode='constant', constant_values=0)\n",
    "print(\"1. CONSTANT mode (fills with 0s):\")\n",
    "print(constant_pad)\n",
    "print()\n",
    "\n",
    "edge_pad = np.pad(demo_arr, pad_width=1, mode='edge')\n",
    "print(\"2. EDGE mode (repeats edge values):\")\n",
    "print(edge_pad)\n",
    "print()\n",
    "\n",
    "reflect_pad = np.pad(demo_arr, pad_width=1, mode='reflect')\n",
    "print(\"3. REFLECT mode (mirrors without repeating edge):\")\n",
    "print(reflect_pad)\n",
    "print()\n",
    "\n",
    "wrap_pad = np.pad(demo_arr, pad_width=2, mode='wrap')\n",
    "print(\"5. WRAP mode (wraps around circularly):\")\n",
    "print(wrap_pad)\n",
    "print()"
   ]
  },
  {
   "cell_type": "markdown",
   "metadata": {},
   "source": [
    "#### 17. What is the result of the following expression? (★☆☆)\n",
    "```python\n",
    "0 * np.nan\n",
    "np.nan == np.nan\n",
    "np.inf > np.nan\n",
    "np.nan - np.nan\n",
    "np.nan in set([np.nan])\n",
    "0.3 == 3 * 0.1\n",
    "```"
   ]
  },
  {
   "cell_type": "code",
   "execution_count": null,
   "metadata": {},
   "outputs": [
    {
     "name": "stdout",
     "output_type": "stream",
     "text": [
      "nan\n",
      "False\n",
      "False\n",
      "nan\n",
      "True\n",
      "False\n"
     ]
    }
   ],
   "source": [
    "\n",
    "print(0 * np.nan)\n",
    "#Any arithmetic operation with NaN results in NaN\n",
    "\n",
    "print(np.nan == np.nan) #NaN is never equal to anything, including itself \n",
    "\n",
    "print(np.inf > np.nan) #(All comparisons with NaN return False (except != which returns True))\n",
    "\n",
    "print(np.nan - np.nan) #NaN minus NaN is still NaN (indeterminate form)\n",
    "\n",
    "print(np.nan in set([np.nan])) #np.nan in set([np.nan] - creates a set containing one NaN value\n",
    "\n",
    "print(0.3 == 3 * 0.1) #3 * 0.1 has tiny rounding errors that make it slightly different from 0.3\n"
   ]
  },
  {
   "cell_type": "markdown",
   "metadata": {},
   "source": [
    "#### 18. Create a 5x5 matrix with values 1,2,3,4 just below the diagonal (★☆☆)"
   ]
  },
  {
   "cell_type": "code",
   "execution_count": null,
   "metadata": {},
   "outputs": [
    {
     "data": {
      "text/plain": [
       "array([[0, 0, 0, 0, 0],\n",
       "       [1, 0, 0, 0, 0],\n",
       "       [0, 2, 0, 0, 0],\n",
       "       [0, 0, 3, 0, 0],\n",
       "       [0, 0, 0, 4, 0]])"
      ]
     },
     "execution_count": 24,
     "metadata": {},
     "output_type": "execute_result"
    }
   ],
   "source": [
    "matrix = np.diag([1, 2, 3, 4], k=-1) #k=-1 means one position below main diagonal\n",
    "#k=0 is the diagonal; k=1 is a position above the diagonal\n",
    "matrix"
   ]
  },
  {
   "cell_type": "code",
   "execution_count": null,
   "metadata": {},
   "outputs": [
    {
     "name": "stdout",
     "output_type": "stream",
     "text": [
      "[[0 0 0 0 0]\n",
      " [1 0 0 0 0]\n",
      " [0 2 0 0 0]\n",
      " [0 0 3 0 0]\n",
      " [0 0 0 4 0]]\n",
      "\n"
     ]
    }
   ],
   "source": [
    "matrix2 = np.zeros((5, 5), dtype=int)\n",
    "values = [1, 2, 3, 4]\n",
    "for i in range(4):  # 4 elements to place\n",
    "    matrix2[i+1, i] = values[i]  # row i+1, column i (below diagonal)\n",
    "print(matrix2)\n",
    "print()"
   ]
  },
  {
   "cell_type": "markdown",
   "metadata": {},
   "source": [
    "#### 19. Create a 8x8 matrix and fill it with a checkerboard pattern (★☆☆)"
   ]
  },
  {
   "cell_type": "code",
   "execution_count": null,
   "metadata": {},
   "outputs": [
    {
     "name": "stdout",
     "output_type": "stream",
     "text": [
      "[[0 1 0 1 0 1 0 1]\n",
      " [1 0 1 0 1 0 1 0]\n",
      " [0 1 0 1 0 1 0 1]\n",
      " [1 0 1 0 1 0 1 0]\n",
      " [0 1 0 1 0 1 0 1]\n",
      " [1 0 1 0 1 0 1 0]\n",
      " [0 1 0 1 0 1 0 1]\n",
      " [1 0 1 0 1 0 1 0]]\n"
     ]
    }
   ],
   "source": [
    "#matrix3 = np.zeros((8, 8), dtype=int)\n",
    "\n",
    "rows = np.arange(8) # Column vector\n",
    "cols = np.arange(8).reshape(-1, 1)  # Row vector\n",
    "checkerboard3 = (rows + cols) % 2\n",
    "print(checkerboard3)\n"
   ]
  },
  {
   "cell_type": "markdown",
   "metadata": {},
   "source": [
    "#### 20. Consider a (6,7,8) shape array, what is the index (x,y,z) of the 100th element?"
   ]
  },
  {
   "cell_type": "code",
   "execution_count": null,
   "metadata": {},
   "outputs": [
    {
     "name": "stdout",
     "output_type": "stream",
     "text": [
      "(np.int64(1), np.int64(5), np.int64(3))\n"
     ]
    }
   ],
   "source": [
    "# Shape of the array\n",
    "shape = (6, 7, 8) #3D array with 336 values.\n",
    "\n",
    "# Get the index of the 100th element (index 99)\n",
    "#6 blocks; Each block has 7 rows,Each row has 8 columns.\n",
    "\n",
    "index = np.unravel_index(99, shape)\n",
    "print(index)\n"
   ]
  },
  {
   "cell_type": "markdown",
   "metadata": {},
   "source": [
    "#### 21. Create a checkerboard 8x8 matrix using the tile function (★☆☆)"
   ]
  },
  {
   "cell_type": "code",
   "execution_count": null,
   "metadata": {},
   "outputs": [
    {
     "data": {
      "text/plain": [
       "array([[0, 1, 0, 1, 0, 1, 0, 1],\n",
       "       [1, 0, 1, 0, 1, 0, 1, 0],\n",
       "       [0, 1, 0, 1, 0, 1, 0, 1],\n",
       "       [1, 0, 1, 0, 1, 0, 1, 0],\n",
       "       [0, 1, 0, 1, 0, 1, 0, 1],\n",
       "       [1, 0, 1, 0, 1, 0, 1, 0],\n",
       "       [0, 1, 0, 1, 0, 1, 0, 1],\n",
       "       [1, 0, 1, 0, 1, 0, 1, 0]])"
      ]
     },
     "execution_count": 36,
     "metadata": {},
     "output_type": "execute_result"
    }
   ],
   "source": [
    "\n",
    "np.tile([[0,1],[1,0]], (4,4))\n",
    "\n",
    "#np.tile() repeats the array like tiles on a floor - taking the 2x2 pattern and repeating 4 times vertically & horizontally\n"
   ]
  },
  {
   "cell_type": "markdown",
   "metadata": {},
   "source": [
    "#### 22. Normalize a 5x5 random matrix (★☆☆)"
   ]
  },
  {
   "cell_type": "code",
   "execution_count": null,
   "metadata": {},
   "outputs": [
    {
     "ename": "NameError",
     "evalue": "name 'np' is not defined",
     "output_type": "error",
     "traceback": [
      "\u001b[31m---------------------------------------------------------------------------\u001b[39m",
      "\u001b[31mNameError\u001b[39m                                 Traceback (most recent call last)",
      "\u001b[36mCell\u001b[39m\u001b[36m \u001b[39m\u001b[32mIn[2]\u001b[39m\u001b[32m, line 5\u001b[39m\n\u001b[32m      1\u001b[39m \u001b[38;5;66;03m#Normalization means scaling values to a range between 0 and 1.\u001b[39;00m\n\u001b[32m      2\u001b[39m \n\u001b[32m      3\u001b[39m \u001b[38;5;66;03m#normalized= [max(X)−min(X)]/[X−min(X)]\u001b[39;00m\n\u001b[32m----> \u001b[39m\u001b[32m5\u001b[39m matrix = \u001b[43mnp\u001b[49m.random.randint(\u001b[32m1\u001b[39m,\u001b[32m50\u001b[39m, size=[\u001b[32m5\u001b[39m,\u001b[32m5\u001b[39m])\n\u001b[32m      6\u001b[39m \u001b[38;5;28mprint\u001b[39m(\u001b[33m\"\u001b[39m\u001b[33mOriginal matrix:\u001b[39m\u001b[38;5;130;01m\\n\u001b[39;00m\u001b[33m\"\u001b[39m, matrix)\n\u001b[32m      7\u001b[39m \u001b[38;5;28mprint\u001b[39m()\n",
      "\u001b[31mNameError\u001b[39m: name 'np' is not defined"
     ]
    }
   ],
   "source": [
    "#Normalization means scaling values to a range between 0 and 1.\n",
    "\n",
    "#normalized= [max(X)−min(X)]/[X−min(X)]\n",
    "\n",
    "matrix = np.random.randint(1,50, size=[5,5])\n",
    "print(\"Original matrix:\\n\", matrix)\n",
    "print()\n",
    "\n",
    "# Step 2: Normalize the matrix\n",
    "print(\"min matrix:\", np.min(matrix))\n",
    "print (\"max matrix:\",np.max(matrix))\n",
    "print()\n",
    "normalized_matrix = (matrix - np.min(matrix)) / (np.max(matrix) - np.min(matrix))\n",
    "normalized_matrix2 = (matrix -np.mean(matrix)) / np.std(matrix)\n",
    "print(\"normalized_matrix:\\n\", normalized_matrix)\n",
    "print(\"normalized_matrix:\\n\", normalized_matrix2)\n"
   ]
  },
  {
   "cell_type": "markdown",
   "metadata": {},
   "source": [
    "#### 23. Create a custom dtype that describes a color as four unsigned bytes (RGBA) (★☆☆)"
   ]
  },
  {
   "cell_type": "code",
   "execution_count": null,
   "metadata": {},
   "outputs": [
    {
     "name": "stdout",
     "output_type": "stream",
     "text": [
      "[(255,   0,   0, 255) (  0, 255,   0, 255) (  0,   0, 255, 255)\n",
      " (255, 255,   0, 128)]\n"
     ]
    }
   ],
   "source": [
    "\n",
    "# Create custom dtype for RGBA color (4 unsigned bytes)\n",
    "color_dtype = np.dtype([('r', np.uint8),\n",
    "                        ('g', np.uint8),\n",
    "                        ('b', np.uint8),\n",
    "                        ('a', np.uint8)])\n",
    "#np.uint8 = unsigned byte (values from 0 to 255).\n",
    "\n",
    "# Create an array of colors using the custom dtype\n",
    "colors = np.array([\n",
    "    (255, 0, 0, 255),    # Red\n",
    "    (0, 255, 0, 255),    # Green\n",
    "    (0, 0, 255, 255),    # Blue\n",
    "    (255, 255, 0, 128)   # Yellow with transparency\n",
    "], dtype=color_dtype)\n",
    "\n",
    "print(colors)\n"
   ]
  },
  {
   "cell_type": "markdown",
   "metadata": {},
   "source": [
    "#### 24. Multiply a 5x3 matrix by a 3x2 matrix (real matrix product) (★☆☆)"
   ]
  },
  {
   "cell_type": "code",
   "execution_count": null,
   "metadata": {},
   "outputs": [
    {
     "name": "stdout",
     "output_type": "stream",
     "text": [
      "[[3 5 4]\n",
      " [3 2 8]\n",
      " [4 6 8]\n",
      " [4 6 2]\n",
      " [3 1 9]]\n",
      "[[5 7]\n",
      " [5 2]\n",
      " [4 2]]\n",
      "[[56 39]\n",
      " [57 41]\n",
      " [82 56]\n",
      " [58 44]\n",
      " [56 41]]\n"
     ]
    }
   ],
   "source": [
    "\n",
    "# Create a 5x3 matrix (A)\n",
    "A = np.random.randint(1,10, size=[5, 3])\n",
    "\n",
    "# Create a 3x2 matrix (B)\n",
    "B = np.random.randint(1,10, size=[3, 2])\n",
    "\n",
    "# Perform matrix multiplication (5x2 result)\n",
    "C = np.dot(A, B)\n",
    "\n",
    "# Or equivalently using @ operator:\n",
    "# C = A @ B\n",
    "\n",
    "print(A)\n",
    "print(B)\n",
    "print(C)\n"
   ]
  },
  {
   "cell_type": "markdown",
   "metadata": {},
   "source": [
    "#### 25. Given a 1D array, negate all elements which are between 3 and 8, in place. (★☆☆)"
   ]
  },
  {
   "cell_type": "code",
   "execution_count": null,
   "metadata": {},
   "outputs": [
    {
     "name": "stdout",
     "output_type": "stream",
     "text": [
      "[ 1 -4 -6  9  2  8  3 10]\n"
     ]
    },
    {
     "data": {
      "text/plain": [
       "array([ 1, -4, -6,  9,  2,  8,  3, 10])"
      ]
     },
     "execution_count": 56,
     "metadata": {},
     "output_type": "execute_result"
    }
   ],
   "source": [
    "\n",
    "# 1D array\n",
    "arr = np.array([1, 4, 6, 9, 2, 8, 3, 10])\n",
    "\n",
    "# Negate elements between 3 and 8 (inclusive)\n",
    "arr[(arr >= 4) & (arr <= 7)] *= -1\n",
    "\n",
    "print(arr)\n",
    "\n",
    "np.negative(arr, out=arr, where=(arr >= 4) & (arr <= 7))\n",
    "#out=arr: updates the array in place.\n"
   ]
  },
  {
   "cell_type": "markdown",
   "metadata": {},
   "source": [
    "#### 26. What is the output of the following script? (★☆☆)\n",
    "```python\n",
    "# Author: Jake VanderPlas\n",
    "\n",
    "print(sum(range(5),-1))\n",
    "from numpy import *\n",
    "print(sum(range(5),-1))\n",
    "```"
   ]
  },
  {
   "cell_type": "code",
   "execution_count": null,
   "metadata": {},
   "outputs": [
    {
     "name": "stdout",
     "output_type": "stream",
     "text": [
      "10\n"
     ]
    }
   ],
   "source": [
    "print(sum(range(5),-1))\n",
    "# the range = (0+1+2+3+4 = 10) then (-1)"
   ]
  },
  {
   "cell_type": "code",
   "execution_count": null,
   "metadata": {},
   "outputs": [
    {
     "name": "stdout",
     "output_type": "stream",
     "text": [
      "10\n"
     ]
    }
   ],
   "source": [
    "from numpy import *\n",
    "#overwrites the built-in sum function with NumPy’s sum() ufunc \n",
    "\n",
    "print(sum(range(5),-1))\n",
    "# -1 is interpreted as axis = -1 (last axis).\n",
    "#Axis -1 on a 1D array means: sum over the whole array\n",
    "\n",
    "# for 2d array : axis=0 (rows) - column sums ; axis=1 (columns) - row sums\n",
    "# axis=-1 always refers to the innermost dimension, the last axis in the shape.\n"
   ]
  },
  {
   "cell_type": "markdown",
   "metadata": {},
   "source": [
    "#### 27. Consider an integer vector Z, which of these expressions are legal? (★☆☆)\n",
    "```python\n",
    "Z**Z\n",
    "2 << Z >> 2\n",
    "Z <- Z\n",
    "1j*Z\n",
    "Z/1/1\n",
    "Z<Z>Z\n",
    "```"
   ]
  },
  {
   "cell_type": "code",
   "execution_count": null,
   "metadata": {},
   "outputs": [
    {
     "data": {
      "text/plain": [
       "array([0., 1., 2., 3., 4.])"
      ]
     },
     "execution_count": 64,
     "metadata": {},
     "output_type": "execute_result"
    }
   ],
   "source": [
    "Z = np.arange(5)  # Z = [0, 1, 2, 3, 4]\n",
    "\n",
    "z1= Z**Z\n",
    "2 << Z >> 2\n",
    "Z <- Z\n",
    "1j*Z\n",
    "Z/1/1\n",
    "#Z<Z>Z\n"
   ]
  },
  {
   "cell_type": "markdown",
   "metadata": {},
   "source": [
    "#### 28. What are the result of the following expressions?\n",
    "```python\n",
    "np.array(0) / np.array(0)\n",
    "np.array(0) // np.array(0)\n",
    "np.array([np.nan]).astype(int).astype(float)\n",
    "```"
   ]
  },
  {
   "cell_type": "code",
   "execution_count": null,
   "metadata": {},
   "outputs": [
    {
     "name": "stderr",
     "output_type": "stream",
     "text": [
      "C:\\Users\\Administrator\\AppData\\Local\\Temp\\ipykernel_16972\\2032225821.py:1: RuntimeWarning: invalid value encountered in divide\n",
      "  np.array(0) / np.array(0)\n",
      "C:\\Users\\Administrator\\AppData\\Local\\Temp\\ipykernel_16972\\2032225821.py:2: RuntimeWarning: divide by zero encountered in floor_divide\n",
      "  np.array(0) // np.array(0)\n",
      "C:\\Users\\Administrator\\AppData\\Local\\Temp\\ipykernel_16972\\2032225821.py:3: RuntimeWarning: invalid value encountered in cast\n",
      "  np.array([np.nan]).astype(int).astype(float)\n"
     ]
    },
    {
     "data": {
      "text/plain": [
       "array([-9.22337204e+18])"
      ]
     },
     "execution_count": 65,
     "metadata": {},
     "output_type": "execute_result"
    }
   ],
   "source": [
    "\n",
    "np.array(0) / np.array(0)\n",
    "np.array(0) // np.array(0)\n",
    "np.array([np.nan]).astype(int).astype(float)\n",
    "#.astype(int) → converts nan to an arbitrary integer then astype(float) converts the int back to float.\n"
   ]
  },
  {
   "cell_type": "markdown",
   "metadata": {},
   "source": [
    "#### 29. How to round away from zero a float array ? (★☆☆)"
   ]
  },
  {
   "cell_type": "code",
   "execution_count": null,
   "metadata": {},
   "outputs": [
    {
     "name": "stdout",
     "output_type": "stream",
     "text": [
      "[-2. -1.  1.  2.]\n",
      "[-1. -0.  0.  1.]\n",
      "[-1  0  0  1]\n"
     ]
    }
   ],
   "source": [
    "\n",
    "Z = np.array([-1.7, -0.2, 0.2, 1.7])\n",
    "rounded = np.copysign(np.ceil(np.abs(Z)), Z)\n",
    "\n",
    "truncated = np.trunc(Z)  # Truncates toward zero\n",
    "whole = Z.astype(int)  # Also truncates toward zero\n",
    "\n",
    "print(rounded)\n",
    "print(truncated)\n",
    "print(whole)\n",
    "\n",
    "#np.abs(Z) → gets absolute values: [1.7, 0.2, 0.2, 1.7]\n",
    "#np.ceil(...) → rounds up (away from 0): [2.0, 1.0, 1.0, 2.0]\n",
    "#np.copysign(..., Z) → gives the original signs back: [-2.0, -1.0, 1.0, 2.0]\n"
   ]
  },
  {
   "cell_type": "markdown",
   "metadata": {},
   "source": [
    "#### 30. How to find common values between two arrays? (★☆☆)"
   ]
  },
  {
   "cell_type": "code",
   "execution_count": null,
   "metadata": {},
   "outputs": [
    {
     "name": "stdout",
     "output_type": "stream",
     "text": [
      "[4 5 8]\n",
      "[8 4 5]\n"
     ]
    }
   ],
   "source": [
    "\n",
    "a = np.array([1, 2, 8, 4, 5])\n",
    "b = np.array([4, 5, 6, 7, 8])\n",
    "\n",
    "common = np.intersect1d(a, b)\n",
    "#np.intersect1d(a, b) returns the sorted, unique values that are present in both arrays.\n",
    "\n",
    "common2 = np.array([x for x in a if x in b])\n",
    "\n",
    "print(common) \n",
    "print(common2)  \n"
   ]
  }
 ],
 "metadata": {
  "kernelspec": {
   "display_name": "Python 3",
   "language": "python",
   "name": "python3"
  },
  "language_info": {
   "codemirror_mode": {
    "name": "ipython",
    "version": 3
   },
   "file_extension": ".py",
   "mimetype": "text/x-python",
   "name": "python",
   "nbconvert_exporter": "python",
   "pygments_lexer": "ipython3",
   "version": "3.13.4"
  }
 },
 "nbformat": 4,
 "nbformat_minor": 4
}
