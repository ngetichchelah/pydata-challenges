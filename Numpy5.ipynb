{
 "cells": [
  {
   "cell_type": "markdown",
   "metadata": {},
   "source": [
    "# Numpy Exercise 5\n",
    "\n",
    "### All of the questions in this exercise are attributed to rougier/numpy-100"
   ]
  },
  {
   "cell_type": "code",
   "execution_count": null,
   "metadata": {},
   "outputs": [],
   "source": []
  },
  {
   "cell_type": "markdown",
   "metadata": {},
   "source": [
    "#### 61. Find the nearest value from a given value in an array (★★☆)"
   ]
  },
  {
   "cell_type": "code",
   "execution_count": 11,
   "metadata": {},
   "outputs": [
    {
     "name": "stdout",
     "output_type": "stream",
     "text": [
      "array: [ 1.5  2.8  4.1  6.3  8.7 10.2]\n",
      "target: 5.0\n",
      "Nearest value: 4.1 at index 2\n"
     ]
    }
   ],
   "source": [
    "import numpy as np\n",
    "\n",
    "arr = np.array([1.5, 2.8, 4.1, 6.3, 8.7, 10.2])\n",
    "target = 5.0\n",
    "\n",
    "#argmin with absolute difference to find closest value in array.\n",
    "nearest_idx = np.argmin(np.abs(arr - target))\n",
    "nearest_value = arr[nearest_idx]\n",
    "\n",
    "print(f\"array: {arr}\")\n",
    "print(f\"target: {target}\")\n",
    "print(f\"Nearest value: {nearest_value} at index {nearest_idx}\")"
   ]
  },
  {
   "cell_type": "markdown",
   "metadata": {},
   "source": [
    "#### 62. Considering two arrays with shape (1,3) and (3,1), how to compute their sum using an iterator? (★★☆)"
   ]
  },
  {
   "cell_type": "code",
   "execution_count": 9,
   "metadata": {},
   "outputs": [
    {
     "name": "stdout",
     "output_type": "stream",
     "text": [
      "Array a:\n",
      " [[1 2 3]]\n",
      "Array b:\n",
      " [[4]\n",
      " [5]\n",
      " [6]]\n",
      "Sum:\n",
      " [[5. 6. 7.]\n",
      " [6. 7. 8.]\n",
      " [7. 8. 9.]]\n"
     ]
    }
   ],
   "source": [
    "a = np.array([[1, 2, 3]])  # Shape (1,3)\n",
    "b = np.array([[4], [5], [6]])  # Shape (3,1)\n",
    "\n",
    "# Using nditer\n",
    "result = np.zeros((3, 3))\n",
    "it = np.nditer([a, b, result], \n",
    "               flags=['multi_index'],\n",
    "               op_flags=[['readonly'], ['readonly'], ['writeonly']])\n",
    "for x, y, z in it:\n",
    "    z[...] = x + y\n",
    "\n",
    "print(f\"Array a:\\n {a}\")\n",
    "print(f\"Array b:\\n {b}\")\n",
    "print(f\"Sum:\\n {result}\")"
   ]
  },
  {
   "cell_type": "markdown",
   "metadata": {},
   "source": [
    "#### 63. Create an array class that has a name attribute (★★☆)"
   ]
  },
  {
   "cell_type": "code",
   "execution_count": null,
   "metadata": {},
   "outputs": [
    {
     "name": "stdout",
     "output_type": "stream",
     "text": [
      "[1 2 3 4]\n"
     ]
    }
   ],
   "source": [
    "class NamedArray(np.ndarray): #custom NumPy array subclass that stores a name attribute.\n",
    "    def __new__(cls, input_array, name=None):\n",
    "        obj = np.asarray(input_array).view(cls)\n",
    "        obj.name = name\n",
    "        return obj\n",
    "    \n",
    "    def __array_finalize__(self, obj):\n",
    "        if obj is None: return\n",
    "        self.name = getattr(obj, 'name', None)\n",
    "    \n",
    "    def __repr__(self):\n",
    "        return f\"NamedArray('{self.name}'):\\n{np.ndarray.__repr__(self)}\"\n",
    "\n",
    "# practical\n",
    "named_arr = NamedArray([1, 2, 3, 4], name=\"my_vector\")\n",
    "print(named_arr)"
   ]
  },
  {
   "cell_type": "markdown",
   "metadata": {},
   "source": [
    "#### 64. Consider a given vector, how to add 1 to each element indexed by a second vector (be careful with repeated indices)? (★★★)"
   ]
  },
  {
   "cell_type": "code",
   "execution_count": 13,
   "metadata": {},
   "outputs": [
    {
     "name": "stdout",
     "output_type": "stream",
     "text": [
      "Original X: [1 2 3 4 5]\n",
      "Indices: [0 1 1 3 3 3]\n",
      "Result: [2 4 3 7 5]\n"
     ]
    }
   ],
   "source": [
    "X = np.array([1, 2, 3, 4, 5])\n",
    "indices = np.array([0, 1, 1, 3, 3, 3])  # Repeated indices\n",
    "\n",
    "print(f\"Original X: {X}\")\n",
    "print(f\"Indices: {indices}\")\n",
    "\n",
    "# Using np.add.at (handles repeated indices)\n",
    "X_copy1 = X.copy()\n",
    "np.add.at(X_copy1, indices, 1)\n",
    "print(f\"Result: {X_copy1}\")"
   ]
  },
  {
   "cell_type": "markdown",
   "metadata": {},
   "source": [
    "#### 65. How to accumulate elements of a vector (X) to an array (F) based on an index list (I)? (★★★)"
   ]
  },
  {
   "cell_type": "code",
   "execution_count": null,
   "metadata": {},
   "outputs": [
    {
     "name": "stdout",
     "output_type": "stream",
     "text": [
      "Values X: [10 20 30 40 50]\n",
      "Indices I: [0 2 1 2 0]\n",
      "Initial F: [0. 0. 0.]\n",
      "Accumulated F: [60. 30. 60.]\n"
     ]
    }
   ],
   "source": [
    "X = np.array([10, 20, 30, 40, 50])\n",
    "I = np.array([0, 2, 1, 2, 0])  # Indices where to accumulate\n",
    "F = np.zeros(3)  # Target array\n",
    "\n",
    "print(f\"Values X: {X}\")\n",
    "print(f\"Indices I: {I}\")\n",
    "print(f\"Initial F: {F}\")\n",
    "\n",
    "# Using np.add.at:\n",
    "F2 = F.copy()\n",
    "np.add.at(F2, I, X)\n",
    "print(f\"Accumulated F: {F2}\")"
   ]
  },
  {
   "cell_type": "markdown",
   "metadata": {},
   "source": [
    "#### 66. Considering a (w,h,3) image of (dtype=ubyte), compute the number of unique colors (★★☆)"
   ]
  },
  {
   "cell_type": "code",
   "execution_count": null,
   "metadata": {},
   "outputs": [
    {
     "name": "stdout",
     "output_type": "stream",
     "text": [
      "Image shape: (4, 4, 3)\n",
      "Number of unique colors: 16\n"
     ]
    }
   ],
   "source": [
    "# sample image\n",
    "np.random.seed(42)\n",
    "image = np.random.randint(0, 256, (4, 4, 3), dtype=np.uint8)\n",
    "print(f\"Image shape: {image.shape}\")\n",
    "\n",
    "# Method 1: Reshape and use unique\n",
    "colors_flat = image.reshape(-1, 3)\n",
    "unique_colors = np.unique(colors_flat, axis=0)\n",
    "num_unique = len(unique_colors)\n",
    "print(f\"Number of unique colors: {num_unique}\")"
   ]
  },
  {
   "cell_type": "markdown",
   "metadata": {},
   "source": [
    "#### 67. Considering a four dimensions array, how to get sum over the last two axis at once? (★★★)"
   ]
  },
  {
   "cell_type": "code",
   "execution_count": 23,
   "metadata": {},
   "outputs": [
    {
     "name": "stdout",
     "output_type": "stream",
     "text": [
      "4D array shape: (2, 3, 4, 5)\n",
      "Sum over last two axes shape: (2, 3)\n"
     ]
    }
   ],
   "source": [
    "arr_4d = np.random.randint(0, 10, (2, 3, 4, 5))\n",
    "# print(arr_4d)\n",
    "print(f\"4D array shape: {arr_4d.shape}\")\n",
    "\n",
    "# Using axis parameter\n",
    "sum_last_two = np.sum(arr_4d, axis=(-2, -1))\n",
    "print(f\"Sum over last two axes shape: {sum_last_two.shape}\")"
   ]
  },
  {
   "cell_type": "markdown",
   "metadata": {},
   "source": [
    "#### 68. Considering a one-dimensional vector D, how to compute means of subsets of D using a vector S of same size describing subset  indices? (★★★)"
   ]
  },
  {
   "cell_type": "code",
   "execution_count": 25,
   "metadata": {},
   "outputs": [
    {
     "name": "stdout",
     "output_type": "stream",
     "text": [
      "Data D: [ 1  2  3  4  5  6  7  8  9 10]\n",
      "Subset labels S: [0 0 1 1 1 2 2 0 1 2]\n",
      "Subset means: [3.66666667 5.25       7.66666667]\n"
     ]
    }
   ],
   "source": [
    "D = np.array([1, 2, 3, 4, 5, 6, 7, 8, 9, 10])\n",
    "S = np.array([0, 0, 1, 1, 1, 2, 2, 0, 1, 2])  # Subset labels\n",
    "\n",
    "print(f\"Data D: {D}\")\n",
    "print(f\"Subset labels S: {S}\")\n",
    "\n",
    "#Using bincount - Count number of occurrences of each value in array of non-negative ints.\n",
    "subset_sums = np.bincount(S, weights=D)\n",
    "subset_counts = np.bincount(S)\n",
    "subset_means = subset_sums / subset_counts\n",
    "print(f\"Subset means: {subset_means}\")"
   ]
  },
  {
   "cell_type": "markdown",
   "metadata": {},
   "source": [
    "#### 69. How to get the diagonal of a dot product? (★★★)"
   ]
  },
  {
   "cell_type": "code",
   "execution_count": 27,
   "metadata": {},
   "outputs": [
    {
     "name": "stdout",
     "output_type": "stream",
     "text": [
      "A shape: (4, 3), B shape: (3, 4)\n",
      "Diagonal of A@B: [ 57  36  59 124]\n",
      "Element-wise method: [ 57  36  59 124]\n"
     ]
    }
   ],
   "source": [
    "A = np.random.randint(0, 10, (4, 3))\n",
    "B = np.random.randint(0, 10, (3, 4))\n",
    "\n",
    "print(f\"A shape: {A.shape}, B shape: {B.shape}\")\n",
    "\n",
    "# Compute full dot product then diagonal\n",
    "diag1 = np.diag(A @ B)\n",
    "print(f\"Diagonal of A@B: {diag1}\")\n",
    "\n",
    "# Element-wise then sum\n",
    "diag3 = np.sum(A * B.T, axis=1)\n",
    "print(f\"Element-wise method: {diag3}\")"
   ]
  },
  {
   "cell_type": "markdown",
   "metadata": {},
   "source": [
    "#### 70. Consider the vector [1, 2, 3, 4, 5], how to build a new vector with 3 consecutive zeros interleaved between each value? (★★★)"
   ]
  },
  {
   "cell_type": "code",
   "execution_count": 29,
   "metadata": {},
   "outputs": [
    {
     "name": "stdout",
     "output_type": "stream",
     "text": [
      "Original: [1 2 3 4 5]\n",
      "With 3 zeros interleaved: [1 0 0 0 2 0 0 0 3 0 0 0 4 0 0 0 5]\n",
      "Alternative method: [1 0 0 0 2 0 0 0 3 0 0 0 4 0 0 0 5]\n"
     ]
    }
   ],
   "source": [
    "original = np.array([1, 2, 3, 4, 5])\n",
    "print(f\"Original: {original}\")\n",
    "\n",
    "# Using repeat and reshape\n",
    "n_zeros = 3\n",
    "result_size = len(original) + (len(original) - 1) * n_zeros\n",
    "result = np.zeros(result_size, dtype=original.dtype)\n",
    "result[::n_zeros + 1] = original\n",
    "print(f\"With 3 zeros interleaved: {result}\")\n",
    "\n",
    "#2\n",
    "interleaved = []\n",
    "for i, val in enumerate(original):\n",
    "    interleaved.append(val)\n",
    "    if i < len(original) - 1:  # Don't add zeros after last element\n",
    "        interleaved.extend([0] * n_zeros)\n",
    "result2 = np.array(interleaved)\n",
    "print(f\"Alternative method: {result2}\")"
   ]
  },
  {
   "cell_type": "markdown",
   "metadata": {},
   "source": [
    "#### 71. Consider an array of dimension (5,5,3), how to mulitply it by an array with dimensions (5,5)? (★★★)"
   ]
  },
  {
   "cell_type": "code",
   "execution_count": 31,
   "metadata": {},
   "outputs": [
    {
     "name": "stdout",
     "output_type": "stream",
     "text": [
      "3D array shape: (5, 5, 3)\n",
      "2D array shape: (5, 5)\n",
      "Shape of result: (5, 5, 3)\n"
     ]
    }
   ],
   "source": [
    "arr_3d = np.random.randint(1, 10, (5, 5, 3))\n",
    "arr_2d = np.random.randint(1, 5, (5, 5))\n",
    "\n",
    "print(f\"3D array shape: {arr_3d.shape}\")\n",
    "print(f\"2D array shape: {arr_2d.shape}\")\n",
    "\n",
    "#Using broadcasting with newaxis\n",
    "result1 = arr_3d * arr_2d[:, :, np.newaxis]\n",
    "print(f\"Shape of result: {result1.shape}\")"
   ]
  },
  {
   "cell_type": "markdown",
   "metadata": {},
   "source": [
    "#### 72. How to swap two rows of an array? (★★★)"
   ]
  },
  {
   "cell_type": "code",
   "execution_count": 35,
   "metadata": {},
   "outputs": [
    {
     "name": "stdout",
     "output_type": "stream",
     "text": [
      "Original matrix:\n",
      "[[ 0  1  2  3  4]\n",
      " [ 5  6  7  8  9]\n",
      " [10 11 12 13 14]\n",
      " [15 16 17 18 19]]\n",
      "\n",
      "After swapping rows 0 and 2:\n",
      "[[10 11 12 13 14]\n",
      " [ 5  6  7  8  9]\n",
      " [ 0  1  2  3  4]\n",
      " [15 16 17 18 19]]\n"
     ]
    }
   ],
   "source": [
    "matrix = np.arange(20).reshape(4, 5)\n",
    "print(f\"Original matrix:\\n{matrix}\")\n",
    "print()\n",
    "#Using advanced indexing\n",
    "matrix_copy1 = matrix.copy()\n",
    "matrix_copy1[[0, 2]] = matrix_copy1[[2, 0]]\n",
    "print(f\"After swapping rows 0 and 2:\\n{matrix_copy1}\")\n",
    "\n",
    "# #Using temporary variable\n",
    "# matrix_copy2 = matrix.copy()\n",
    "# temp = matrix_copy2[1].copy()\n",
    "# matrix_copy2[1] = matrix_copy2[3]\n",
    "# matrix_copy2[3] = temp\n",
    "# print(f\"Swapped rows 1 and 3:\\n{matrix_copy2}\")"
   ]
  },
  {
   "cell_type": "markdown",
   "metadata": {},
   "source": [
    "#### 73. Consider a set of 10 triplets describing 10 triangles (with shared vertices), find the set of unique line segments composing all the  triangles (★★★)"
   ]
  },
  {
   "cell_type": "code",
   "execution_count": 36,
   "metadata": {},
   "outputs": [
    {
     "name": "stdout",
     "output_type": "stream",
     "text": [
      "Triangles shape: (10, 3)\n",
      "Number of unique line segments: 14\n",
      "Unique line segments:\n",
      "[[0 1]\n",
      " [0 2]\n",
      " [0 4]\n",
      " [1 2]\n",
      " [1 3]\n",
      " [1 5]\n",
      " [2 3]\n",
      " [3 4]\n",
      " [4 4]\n",
      " [4 5]\n",
      " [5 5]\n",
      " [5 6]\n",
      " [6 6]\n",
      " [7 7]]\n"
     ]
    }
   ],
   "source": [
    "# 10 triangles, each defined by 3 vertex indices\n",
    "triangles = np.array([\n",
    "    [0, 1, 2], [1, 2, 3], [2, 3, 4], [0, 2, 4],\n",
    "    [1, 3, 5], [3, 4, 5], [0, 4, 6], [4, 5, 6],\n",
    "    [1, 5, 7], [5, 6, 7]\n",
    "])\n",
    "\n",
    "print(f\"Triangles shape: {triangles.shape}\")\n",
    "\n",
    "# Get all edges from triangles\n",
    "edges = np.array([\n",
    "    [triangles[:, 0], triangles[:, 1]],  # Edge 0-1\n",
    "    [triangles[:, 1], triangles[:, 2]],  # Edge 1-2  \n",
    "    [triangles[:, 2], triangles[:, 0]]   # Edge 2-0\n",
    "]).transpose(1, 0, 2).reshape(-1, 2)\n",
    "\n",
    "# Sort each edge so (a,b) and (b,a) are equivalent\n",
    "edges_sorted = np.sort(edges, axis=1)\n",
    "\n",
    "# Find unique edges\n",
    "unique_edges = np.unique(edges_sorted, axis=0)\n",
    "print(f\"Number of unique line segments: {len(unique_edges)}\")\n",
    "print(f\"Unique line segments:\\n{unique_edges}\")\n"
   ]
  },
  {
   "cell_type": "markdown",
   "metadata": {},
   "source": [
    "#### 74. Given a sorted array C that corresponds to a bincount, how to produce an array A such that np.bincount(A) == C? (★★★)"
   ]
  },
  {
   "cell_type": "code",
   "execution_count": 39,
   "metadata": {},
   "outputs": [
    {
     "name": "stdout",
     "output_type": "stream",
     "text": [
      " C: [2 3 1 4]\n",
      "\n",
      "Reconstructed A: [0 0 1 1 1 2 3 3 3 3]\n",
      "Verification - np.bincount(A): [2 3 1 4]\n",
      "Matches C: True\n"
     ]
    }
   ],
   "source": [
    "C = np.array([2, 3, 1, 4])  # Sorted bincount result\n",
    "print(f\" C: {C}\")\n",
    "\n",
    "# Reconstruct array A\n",
    "A = np.repeat(np.arange(len(C)), C)\n",
    "print()\n",
    "print(f\"Reconstructed A: {A}\")\n",
    "print(f\"Verification - np.bincount(A): {np.bincount(A)}\")\n",
    "print(f\"Matches C: {np.array_equal(np.bincount(A), C)}\")"
   ]
  },
  {
   "cell_type": "markdown",
   "metadata": {},
   "source": [
    "#### 75. How to compute averages using a sliding window over an array? (★★★)"
   ]
  },
  {
   "cell_type": "code",
   "execution_count": null,
   "metadata": {},
   "outputs": [
    {
     "name": "stdout",
     "output_type": "stream",
     "text": [
      "Data: [ 1  2  3  4  5  6  7  8  9 10]\n",
      "Window size: 3\n",
      "Sliding averages (convolution): [2. 3. 4. 5. 6. 7. 8. 9.]\n"
     ]
    }
   ],
   "source": [
    "data = np.array([1, 2, 3, 4, 5, 6, 7, 8, 9, 10])\n",
    "window_size = 3\n",
    "\n",
    "print(f\"Data: {data}\")\n",
    "print(f\"Window size: {window_size}\")\n",
    "\n",
    "#Using convolution\n",
    "kernel = np.ones(window_size) / window_size\n",
    "averages1 = np.convolve(data, kernel, mode='valid')\n",
    "print(f\"Sliding averages (convolution): {averages1}\")"
   ]
  },
  {
   "cell_type": "markdown",
   "metadata": {},
   "source": [
    "#### 76. Consider a one-dimensional array Z, build a two-dimensional array whose first row is (Z[0],Z[1],Z[2]) and each subsequent row is  shifted by 1 (last row should be (Z[-3],Z[-2],Z[-1]) (★★★)"
   ]
  },
  {
   "cell_type": "code",
   "execution_count": 43,
   "metadata": {},
   "outputs": [
    {
     "name": "stdout",
     "output_type": "stream",
     "text": [
      "1D array Z: [0 1 2 3 4 5 6 7 8 9]\n",
      "\n",
      "Manual construction:\n",
      "[[0 1 2]\n",
      " [1 2 3]\n",
      " [2 3 4]\n",
      " [3 4 5]\n",
      " [4 5 6]\n",
      " [5 6 7]\n",
      " [6 7 8]\n",
      " [7 8 9]]\n"
     ]
    }
   ],
   "source": [
    "Z = np.arange(10)  # [0, 1, 2, 3, 4, 5, 6, 7, 8, 9]\n",
    "window_size = 3\n",
    "\n",
    "print(f\"1D array Z: {Z}\")\n",
    "print()\n",
    "n_rows = len(Z) - window_size + 1\n",
    "result = np.zeros((n_rows, window_size), dtype=Z.dtype)\n",
    "for i in range(n_rows):\n",
    "    result[i] = Z[i:i + window_size]\n",
    "print(f\"Manual construction:\\n{result}\")"
   ]
  },
  {
   "cell_type": "markdown",
   "metadata": {},
   "source": [
    "#### 77. How to negate a boolean, or to change the sign of a float inplace? (★★★)"
   ]
  },
  {
   "cell_type": "code",
   "execution_count": 47,
   "metadata": {},
   "outputs": [
    {
     "name": "stdout",
     "output_type": "stream",
     "text": [
      "Original boolean: [ True False  True False]\n",
      "Negated boolean: [False  True False  True]\n",
      "\n",
      "Original float: [ 1.5 -2.3  4.7 -8.1]\n",
      "Sign changed: [-1.5  2.3 -4.7  8.1]\n"
     ]
    }
   ],
   "source": [
    "bool_arr = np.array([True, False, True, False])\n",
    "print(f\"Original boolean: {bool_arr}\")\n",
    "bool_arr ^= True  # XOR with True negates\n",
    "print(f\"Negated boolean: {bool_arr}\")\n",
    "\n",
    "print()\n",
    "\n",
    "float_arr = np.array([1.5, -2.3, 4.7, -8.1])\n",
    "print(f\"Original float: {float_arr}\")\n",
    "float_arr *= -1  # Multiply by -1 inplace\n",
    "print(f\"Sign changed: {float_arr}\")"
   ]
  },
  {
   "cell_type": "markdown",
   "metadata": {},
   "source": [
    "#### 78. Consider 2 sets of points P0,P1 describing lines (2d) and a point p, how to compute distance from p to each line i (P0[i],P1[i])? (★★★)"
   ]
  },
  {
   "cell_type": "code",
   "execution_count": 48,
   "metadata": {},
   "outputs": [
    {
     "name": "stdout",
     "output_type": "stream",
     "text": [
      "Line start points P0:\n",
      "[[0 0]\n",
      " [1 1]\n",
      " [2 0]]\n",
      "Line end points P1:\n",
      "[[1 0]\n",
      " [2 3]\n",
      " [3 2]]\n",
      "Point p: [1.5 1.5]\n",
      "Distances from point to each line: [1.58113883 0.2236068  1.11803399]\n"
     ]
    }
   ],
   "source": [
    "P0 = np.array([[0, 0], [1, 1], [2, 0]])  # Start points\n",
    "P1 = np.array([[1, 0], [2, 3], [3, 2]])  # End points\n",
    "p = np.array([1.5, 1.5])  # Point\n",
    "\n",
    "print(f\"Line start points P0:\\n{P0}\")\n",
    "print(f\"Line end points P1:\\n{P1}\")\n",
    "print(f\"Point p: {p}\")\n",
    "\n",
    "def point_to_line_distance(p, P0, P1):\n",
    "    \"\"\"Calculate distance from point p to lines defined by P0, P1\"\"\"\n",
    "    # Vector from P0 to P1\n",
    "    line_vec = P1 - P0\n",
    "    # Vector from P0 to point\n",
    "    point_vec = p - P0\n",
    "    \n",
    "    # Project point onto line\n",
    "    line_len_sq = np.sum(line_vec**2, axis=1)\n",
    "    # Avoid division by zero\n",
    "    line_len_sq = np.where(line_len_sq == 0, 1e-10, line_len_sq)\n",
    "    \n",
    "    t = np.sum(point_vec * line_vec, axis=1) / line_len_sq\n",
    "    t = np.clip(t, 0, 1)  # Clamp to line segment\n",
    "    \n",
    "    # Closest point on line segment\n",
    "    closest = P0 + t[:, np.newaxis] * line_vec\n",
    "    \n",
    "    # Distance from point to closest point\n",
    "    distances = np.linalg.norm(p - closest, axis=1)\n",
    "    return distances\n",
    "\n",
    "distances = point_to_line_distance(p, P0, P1)\n",
    "print(f\"Distances from point to each line: {distances}\")"
   ]
  },
  {
   "cell_type": "markdown",
   "metadata": {},
   "source": [
    "#### 79. Consider 2 sets of points P0,P1 describing lines (2d) and a set of points P, how to compute distance from each point j (P[j]) to each line i (P0[i],P1[i])? (★★★)"
   ]
  },
  {
   "cell_type": "code",
   "execution_count": 52,
   "metadata": {},
   "outputs": [
    {
     "name": "stdout",
     "output_type": "stream",
     "text": [
      "Multiple points P:\n",
      "[[0.5 0.5]\n",
      " [1.  2. ]\n",
      " [2.5 1. ]]\n",
      "\n",
      "Distance matrix (points × lines):\n",
      "[[0.5        0.70710678 1.58113883]\n",
      " [2.         0.4472136  1.78885438]\n",
      " [1.80277564 1.34164079 0.        ]]\n",
      "\n",
      "Shape: (3, 3)\n"
     ]
    }
   ],
   "source": [
    "P = np.array([[0.5, 0.5], [1.0, 2.0], [2.5, 1.0]])  # Multiple points\n",
    "\n",
    "print(f\"Multiple points P:\\n{P}\")\n",
    "print()\n",
    "def points_to_lines_distance(P, P0, P1):\n",
    "    \"\"\"Calculate distance from multiple points to multiple lines\"\"\"\n",
    "    n_points = len(P)\n",
    "    n_lines = len(P0)\n",
    "    distances = np.zeros((n_points, n_lines))\n",
    "    \n",
    "    for i, point in enumerate(P):\n",
    "        distances[i] = point_to_line_distance(point, P0, P1)\n",
    "    \n",
    "    return distances\n",
    "\n",
    "distance_matrix = points_to_lines_distance(P, P0, P1)\n",
    "print(f\"Distance matrix (points × lines):\\n{distance_matrix}\")\n",
    "print()\n",
    "print(f\"Shape: {distance_matrix.shape}\")"
   ]
  },
  {
   "cell_type": "markdown",
   "metadata": {},
   "source": [
    "#### 80. Consider an arbitrary array, write a function that extract a subpart with a fixed shape and centered on a given element (pad with a `fill` value when necessary) (★★★)"
   ]
  },
  {
   "cell_type": "code",
   "execution_count": 53,
   "metadata": {},
   "outputs": [
    {
     "name": "stdout",
     "output_type": "stream",
     "text": [
      "Original 5x5 array:\n",
      "[[ 0  1  2  3  4]\n",
      " [ 5  6  7  8  9]\n",
      " [10 11 12 13 14]\n",
      " [15 16 17 18 19]\n",
      " [20 21 22 23 24]]\n",
      "3x3 centered at (1,1) with padding -1:\n",
      "[[ 0  1  2]\n",
      " [ 5  6  7]\n",
      " [10 11 12]]\n",
      "3x3 centered at (0,0) with padding -1:\n",
      "[[-1 -1 -1]\n",
      " [-1  0  1]\n",
      " [-1  5  6]]\n"
     ]
    }
   ],
   "source": [
    "def extract_centered(array, center, shape, fill=0):\n",
    "    \"\"\"Extract subarray centered on given element with padding if necessary\"\"\"\n",
    "    array = np.asarray(array)\n",
    "    center = np.asarray(center)\n",
    "    shape = np.asarray(shape)\n",
    "    \n",
    "    # Calculate start and end indices\n",
    "    start = center - shape // 2\n",
    "    end = start + shape\n",
    "    \n",
    "    # Create output array filled with fill value\n",
    "    output = np.full(shape, fill, dtype=array.dtype)\n",
    "    \n",
    "    # Calculate valid regions\n",
    "    valid_start = np.maximum(start, 0)\n",
    "    valid_end = np.minimum(end, array.shape)\n",
    "    \n",
    "    # Calculate indices for output array\n",
    "    out_start = valid_start - start\n",
    "    out_end = out_start + (valid_end - valid_start)\n",
    "    \n",
    "    # Copy valid region\n",
    "    if array.ndim == 1:\n",
    "        if valid_start[0] < valid_end[0]:\n",
    "            output[out_start[0]:out_end[0]] = array[valid_start[0]:valid_end[0]]\n",
    "    elif array.ndim == 2:\n",
    "        if (valid_start < valid_end).all():\n",
    "            output[out_start[0]:out_end[0], out_start[1]:out_end[1]] = \\\n",
    "                array[valid_start[0]:valid_end[0], valid_start[1]:valid_end[1]]\n",
    "    \n",
    "    return output\n",
    "\n",
    "# Test with 2D array\n",
    "test_array = np.arange(25).reshape(5, 5)\n",
    "print(f\"Original 5x5 array:\\n{test_array}\")\n",
    "\n",
    "# Extract 3x3 centered at (1,1)\n",
    "result = extract_centered(test_array, [1, 1], [3, 3], fill=-1)\n",
    "print(f\"3x3 centered at (1,1) with padding -1:\\n{result}\")\n",
    "\n",
    "# Extract 3x3 centered at (0,0) - needs padding\n",
    "result2 = extract_centered(test_array, [0, 0], [3, 3], fill=-1)\n",
    "print(f\"3x3 centered at (0,0) with padding -1:\\n{result2}\")"
   ]
  },
  {
   "cell_type": "markdown",
   "metadata": {},
   "source": [
    "#### 81. Consider an array Z = [1,2,3,4,5,6,7,8,9,10,11,12,13,14], how to generate an array R = [[1,2,3,4], [2,3,4,5], [3,4,5,6], ..., [11,12,13,14]]? (★★★)"
   ]
  },
  {
   "cell_type": "code",
   "execution_count": 55,
   "metadata": {},
   "outputs": [
    {
     "name": "stdout",
     "output_type": "stream",
     "text": [
      "Original Z: [ 1  2  3  4  5  6  7  8  9 10 11 12 13 14]\n",
      "\n",
      "Manual construction:\n",
      "[[ 1  2  3  4]\n",
      " [ 2  3  4  5]\n",
      " [ 3  4  5  6]\n",
      " [ 4  5  6  7]\n",
      " [ 5  6  7  8]\n",
      " [ 6  7  8  9]\n",
      " [ 7  8  9 10]\n",
      " [ 8  9 10 11]\n",
      " [ 9 10 11 12]\n",
      " [10 11 12 13]\n",
      " [11 12 13 14]]\n"
     ]
    }
   ],
   "source": [
    "Z = np.array([1,2,3,4,5,6,7,8,9,10,11,12,13,14])\n",
    "window_size = 4\n",
    "\n",
    "print(f\"Original Z: {Z}\")\n",
    "print()\n",
    "#Manual construction\n",
    "n_windows = len(Z) - window_size + 1\n",
    "R2 = np.array([Z[i:i+window_size] for i in range(n_windows)])\n",
    "print(f\"Manual construction:\\n{R2}\")\n",
    "\n",
    "# #Using broadcasting\n",
    "# idx = np.arange(window_size)[None, :] + np.arange(n_windows)[:, None]\n",
    "# R3 = Z[idx]\n",
    "# print(f\"Using broadcasting:\\n{R3}\")\n"
   ]
  },
  {
   "cell_type": "markdown",
   "metadata": {},
   "source": [
    "#### 82. Compute a matrix rank (★★★)"
   ]
  },
  {
   "cell_type": "code",
   "execution_count": 56,
   "metadata": {},
   "outputs": [
    {
     "name": "stdout",
     "output_type": "stream",
     "text": [
      "Full rank matrix:\n",
      "[[ 1  2  3]\n",
      " [ 4  5  6]\n",
      " [ 7  8 10]]\n",
      "Rank: 3\n",
      "Rank deficient matrix:\n",
      "[[1 2 3]\n",
      " [4 5 6]\n",
      " [5 7 9]]\n",
      "Rank: 2\n"
     ]
    }
   ],
   "source": [
    "full_rank = np.array([[1, 2, 3], [4, 5, 6], [7, 8, 10]])  # Rank 3\n",
    "rank_deficient = np.array([[1, 2, 3], [4, 5, 6], [5, 7, 9]])  # Rank 2\n",
    "\n",
    "print(f\"Full rank matrix:\\n{full_rank}\")\n",
    "print(f\"Rank: {np.linalg.matrix_rank(full_rank)}\")\n",
    "\n",
    "print(f\"Rank deficient matrix:\\n{rank_deficient}\")\n",
    "print(f\"Rank: {np.linalg.matrix_rank(rank_deficient)}\")\n"
   ]
  },
  {
   "cell_type": "markdown",
   "metadata": {},
   "source": [
    "#### 83. How to find the most frequent value in an array?"
   ]
  },
  {
   "cell_type": "code",
   "execution_count": 57,
   "metadata": {},
   "outputs": [
    {
     "name": "stdout",
     "output_type": "stream",
     "text": [
      "Array: [1 2 2 3 2 4 2 5 3 3]\n",
      "Most frequent (bincount): 2\n"
     ]
    }
   ],
   "source": [
    "arr = np.array([1, 2, 2, 3, 2, 4, 2, 5, 3, 3])\n",
    "print(f\"Array: {arr}\")\n",
    "\n",
    "# Using bincount (for positive integers)\n",
    "if arr.min() >= 0:\n",
    "    counts = np.bincount(arr)\n",
    "    most_frequent = np.argmax(counts)\n",
    "    print(f\"Most frequent (bincount): {most_frequent}\")"
   ]
  },
  {
   "cell_type": "markdown",
   "metadata": {},
   "source": [
    "#### 84. Extract all the contiguous 3x3 blocks from a random 10x10 matrix (★★★)"
   ]
  },
  {
   "cell_type": "code",
   "execution_count": 61,
   "metadata": {},
   "outputs": [
    {
     "name": "stdout",
     "output_type": "stream",
     "text": [
      "Original 10x10 matrix:\n",
      "[[6 3 7 4 6 9 2 6 7 4]\n",
      " [3 7 7 2 5 4 1 7 5 1]\n",
      " [4 0 9 5 8 0 9 2 6 3]\n",
      " [8 2 4 2 6 4 8 6 1 3]\n",
      " [8 1 9 8 9 4 1 3 6 7]\n",
      " [2 0 3 1 7 3 1 5 5 9]\n",
      " [3 5 1 9 1 9 3 7 6 8]\n",
      " [7 4 1 4 7 9 8 8 0 8]\n",
      " [6 8 7 0 7 7 2 0 7 2]\n",
      " [2 0 4 9 6 9 8 6 8 7]]\n",
      "\n",
      "Blocks shape: (8, 8, 3, 3)\n",
      "\n",
      "First block (top-left):\n",
      "[[6 3 7]\n",
      " [3 7 7]\n",
      " [4 0 9]]\n",
      "\n",
      "Second block (shifted right):\n",
      "[[3 7 4]\n",
      " [7 7 2]\n",
      " [0 9 5]]\n"
     ]
    }
   ],
   "source": [
    "np.random.seed(42)\n",
    "matrix = np.random.randint(0, 10, (10, 10))\n",
    "block_size = 3\n",
    "\n",
    "print(f\"Original 10x10 matrix:\\n{matrix}\")\n",
    "print()\n",
    "#  Using stride_tricks\n",
    "def extract_blocks(array, block_shape):\n",
    "    \"\"\"Extract all blocks of given shape from array\"\"\"\n",
    "    from numpy.lib.stride_tricks import sliding_window_view\n",
    "    return sliding_window_view(array, block_shape)\n",
    "\n",
    "blocks = extract_blocks(matrix, (block_size, block_size))\n",
    "print(f\"Blocks shape: {blocks.shape}\")  # Should be (8, 8, 3, 3)\n",
    "print(f\"\\nFirst block (top-left):\\n{blocks[0, 0]}\")\n",
    "print(f\"\\nSecond block (shifted right):\\n{blocks[0, 1]}\")"
   ]
  },
  {
   "cell_type": "markdown",
   "metadata": {},
   "source": [
    "#### 85. Create a 2D array subclass such that Z[i,j] == Z[j,i] (★★★)"
   ]
  },
  {
   "cell_type": "code",
   "execution_count": 62,
   "metadata": {},
   "outputs": [
    {
     "name": "stdout",
     "output_type": "stream",
     "text": [
      "Original symmetric array:\n",
      "[[1. 0. 0. 0.]\n",
      " [0. 1. 0. 0.]\n",
      " [0. 0. 1. 0.]\n",
      " [0. 0. 0. 1.]]\n",
      "After setting [1,3] = 5:\n",
      "[[1. 0. 0. 0.]\n",
      " [0. 1. 0. 5.]\n",
      " [0. 0. 1. 0.]\n",
      " [0. 5. 0. 1.]]\n",
      "Verification: [1,3] = 5.0, [3,1] = 5.0\n"
     ]
    }
   ],
   "source": [
    "class SymmetricArray(np.ndarray):\n",
    "    \"\"\"2D array where Z[i,j] == Z[j,i]\"\"\"\n",
    "    \n",
    "    def __new__(cls, input_array):\n",
    "        obj = np.asarray(input_array).view(cls)\n",
    "        if obj.ndim != 2 or obj.shape[0] != obj.shape[1]:\n",
    "            raise ValueError(\"Array must be 2D and square\")\n",
    "        return obj\n",
    "    \n",
    "    def __setitem__(self, key, value):\n",
    "        super().__setitem__(key, value)\n",
    "        # If setting single element, also set symmetric element\n",
    "        if isinstance(key, tuple) and len(key) == 2:\n",
    "            i, j = key\n",
    "            if isinstance(i, int) and isinstance(j, int) and i != j:\n",
    "                super().__setitem__((j, i), value)\n",
    "\n",
    "# Test symmetric array\n",
    "sym_arr = SymmetricArray(np.eye(4))\n",
    "print(f\"Original symmetric array:\\n{sym_arr}\")\n",
    "\n",
    "sym_arr[1, 3] = 5  # This should also set [3, 1] = 5\n",
    "print(f\"After setting [1,3] = 5:\\n{sym_arr}\")\n",
    "print(f\"Verification: [1,3] = {sym_arr[1,3]}, [3,1] = {sym_arr[3,1]}\")\n"
   ]
  },
  {
   "cell_type": "markdown",
   "metadata": {},
   "source": [
    "#### 86. Consider a set of p matrices wich shape (n,n) and a set of p vectors with shape (n,1). How to compute the sum of of the p matrix products at once? (result has shape (n,1)) (★★★)"
   ]
  },
  {
   "cell_type": "code",
   "execution_count": 65,
   "metadata": {},
   "outputs": [
    {
     "name": "stdout",
     "output_type": "stream",
     "text": [
      "Shapes: 3 matrices (3, 4, 4), 3 vectors (3, 4, 1)\n",
      "Result shape using einsum: (1, 1)\n",
      "Result shape using loop: (4, 1)\n"
     ]
    }
   ],
   "source": [
    "p, n = 3, 4\n",
    "np.random.seed(42)\n",
    "matrices = np.random.randint(1, 5, (p, n, n))  # p matrices of shape (n,n)\n",
    "vectors = np.random.randint(1, 5, (p, n, 1))   # p vectors of shape (n,1)\n",
    "\n",
    "print(f\"Shapes: {p} matrices {matrices.shape}, {p} vectors {vectors.shape}\")\n",
    "\n",
    "#Using einsum\n",
    "result1 = np.einsum('pij,pjk->ik', matrices, vectors).sum(axis=0, keepdims=True)\n",
    "print(f\"Result shape using einsum: {result1.shape}\")\n",
    "\n",
    "#Loop and sum\n",
    "result2 = np.zeros((n, 1))\n",
    "for i in range(p):\n",
    "    result2 += matrices[i] @ vectors[i]\n",
    "print(f\"Result shape using loop: {result2.shape}\")"
   ]
  },
  {
   "cell_type": "markdown",
   "metadata": {},
   "source": [
    "#### 87. Consider a 16x16 array, how to get the block-sum (block size is 4x4)? (★★★)"
   ]
  },
  {
   "cell_type": "code",
   "execution_count": 68,
   "metadata": {},
   "outputs": [
    {
     "name": "stdout",
     "output_type": "stream",
     "text": [
      "Original array shape: (16, 16)\n",
      "\n",
      "Block sums shape: (4, 4)\n",
      "\n",
      "Block sums:\n",
      "[[65 73 86 72]\n",
      " [80 83 78 71]\n",
      " [67 58 69 78]\n",
      " [72 69 61 68]]\n"
     ]
    }
   ],
   "source": [
    "np.random.seed(42)\n",
    "large_array = np.random.randint(0, 10, (16, 16))\n",
    "block_size = 4\n",
    "\n",
    "print(f\"Original array shape: {large_array.shape}\")\n",
    "\n",
    "#Using reshape and sum\n",
    "def block_sum_reshape(array, block_size):\n",
    "    \"\"\"Sum blocks using reshape\"\"\"\n",
    "    h, w = array.shape\n",
    "    return array.reshape(h//block_size, block_size, w//block_size, block_size).sum(axis=(1, 3))\n",
    "\n",
    "block_sums1 = block_sum_reshape(large_array, block_size)\n",
    "print(f\"\\nBlock sums shape: {block_sums1.shape}\")\n",
    "print(f\"\\nBlock sums:\\n{block_sums1}\")\n"
   ]
  },
  {
   "cell_type": "markdown",
   "metadata": {},
   "source": [
    "#### 88. How to implement the Game of Life using numpy arrays? (★★★)"
   ]
  },
  {
   "cell_type": "code",
   "execution_count": 69,
   "metadata": {},
   "outputs": [
    {
     "name": "stdout",
     "output_type": "stream",
     "text": [
      "Initial glider pattern:\n",
      "[[0 1 0 0 0]\n",
      " [0 0 1 0 0]\n",
      " [1 1 1 0 0]\n",
      " [0 0 0 0 0]\n",
      " [0 0 0 0 0]]\n",
      "\n",
      "Step 1:\n",
      "[[0 0 0 0 0]\n",
      " [1 0 1 0 0]\n",
      " [0 1 1 0 0]\n",
      " [0 1 0 0 0]\n",
      " [0 0 0 0 0]]\n",
      "\n",
      "Step 2:\n",
      "[[0 0 0 0 0]\n",
      " [0 0 1 0 0]\n",
      " [1 0 1 0 0]\n",
      " [0 1 1 0 0]\n",
      " [0 0 0 0 0]]\n",
      "\n",
      "Step 3:\n",
      "[[0 0 0 0 0]\n",
      " [0 1 0 0 0]\n",
      " [0 0 1 1 0]\n",
      " [0 1 1 0 0]\n",
      " [0 0 0 0 0]]\n"
     ]
    }
   ],
   "source": [
    "def game_of_life_step(grid):\n",
    "    \"\"\"Single step of Conway's Game of Life\"\"\"\n",
    "    # Count neighbors using convolution\n",
    "    kernel = np.array([[1, 1, 1],\n",
    "                       [1, 0, 1],\n",
    "                       [1, 1, 1]])\n",
    "    \n",
    "    # Pad grid to handle boundaries\n",
    "    padded = np.pad(grid, 1, mode='constant', constant_values=0)\n",
    "    neighbor_count = np.zeros_like(grid)\n",
    "    \n",
    "    # Count neighbors manually (alternative to scipy.ndimage.convolve)\n",
    "    for i in range(3):\n",
    "        for j in range(3):\n",
    "            if i == 1 and j == 1:\n",
    "                continue\n",
    "            neighbor_count += padded[i:i+grid.shape[0], j:j+grid.shape[1]]\n",
    "    \n",
    "    # Apply Game of Life rules\n",
    "    # Live cell with 2-3 neighbors survives\n",
    "    # Dead cell with exactly 3 neighbors becomes alive\n",
    "    new_grid = np.zeros_like(grid)\n",
    "    new_grid[(grid == 1) & ((neighbor_count == 2) | (neighbor_count == 3))] = 1\n",
    "    new_grid[(grid == 0) & (neighbor_count == 3)] = 1\n",
    "    \n",
    "    return new_grid\n",
    "\n",
    "# Test with a glider pattern\n",
    "glider = np.array([[0, 1, 0, 0, 0],\n",
    "                   [0, 0, 1, 0, 0],\n",
    "                   [1, 1, 1, 0, 0],\n",
    "                   [0, 0, 0, 0, 0],\n",
    "                   [0, 0, 0, 0, 0]])\n",
    "\n",
    "print(\"Initial glider pattern:\")\n",
    "print(glider)\n",
    "\n",
    "# Run a few steps\n",
    "current = glider.copy()\n",
    "for step in range(3):\n",
    "    current = game_of_life_step(current)\n",
    "    print(f\"\\nStep {step + 1}:\")\n",
    "    print(current)"
   ]
  },
  {
   "cell_type": "markdown",
   "metadata": {},
   "source": [
    "#### 89. How to get the n largest values of an array (★★★)"
   ]
  },
  {
   "cell_type": "code",
   "execution_count": 70,
   "metadata": {},
   "outputs": [
    {
     "name": "stdout",
     "output_type": "stream",
     "text": [
      "Array: [3 1 4 1 5 9 2 6 5 3]\n",
      "4 largest values (argpartition): [9 6 5 5]\n"
     ]
    }
   ],
   "source": [
    "arr = np.array([3, 1, 4, 1, 5, 9, 2, 6, 5, 3])\n",
    "n = 4\n",
    "\n",
    "print(f\"Array: {arr}\")\n",
    "\n",
    "# Method 1: Using argpartition (most efficient)\n",
    "indices = np.argpartition(arr, -n)[-n:]\n",
    "largest_values = arr[indices[np.argsort(arr[indices])[::-1]]]\n",
    "print(f\"{n} largest values (argpartition): {largest_values}\")"
   ]
  },
  {
   "cell_type": "markdown",
   "metadata": {},
   "source": [
    "#### 90. Given an arbitrary number of vectors, build the cartesian product (every combinations of every item) (★★★)"
   ]
  },
  {
   "cell_type": "code",
   "execution_count": null,
   "metadata": {},
   "outputs": [],
   "source": [
    "def cartesian_product(*arrays):\n",
    "    \"\"\"Compute cartesian product of input arrays\"\"\"\n",
    "    arrays = [np.asarray(x) for x in arrays]\n",
    "    dtype = np.find_common_type([x.dtype for x in arrays], [])\n",
    "    \n",
    "    n = len(arrays)\n",
    "    if n == 0:\n",
    "        return np.array([])\n",
    "    \n",
    "    # Calculate total size\n",
    "    size = 1\n",
    "    for x in arrays:\n",
    "        size *= len(x)\n",
    "    \n",
    "    # Create output array\n",
    "    result = np.zeros((size, n), dtype=dtype)\n",
    "    \n",
    "    # Fill result using meshgrid\n",
    "    grids = np.meshgrid(*arrays, indexing='ij')\n",
    "    for i, grid in enumerate(grids):\n",
    "        result[:, i] = grid.flatten()\n",
    "    \n",
    "    return result\n",
    "\n",
    "# Test with multiple vectors\n",
    "a = np.array([1, 2])\n",
    "b = np.array([10, 20, 30])\n",
    "c = np.array([100, 200])\n",
    "\n",
    "print(f\"Vector a: {a}\")\n",
    "print(f\"Vector b: {b}\")\n",
    "print(f\"Vector c: {c}\")\n",
    "\n",
    "cart_prod = cartesian_product(a, b, c)\n",
    "print(f\"Cartesian product shape: {cart_prod.shape}\")\n",
    "print(f\"Cartesian product:\\n{cart_prod}\")"
   ]
  },
  {
   "cell_type": "markdown",
   "metadata": {},
   "source": [
    "#### 91. How to create a record array from a regular array? (★★★)"
   ]
  },
  {
   "cell_type": "code",
   "execution_count": 73,
   "metadata": {},
   "outputs": [
    {
     "name": "stdout",
     "output_type": "stream",
     "text": [
      "Regular array:\n",
      "[[1 2.5 'Alice']\n",
      " [2 3.7 'Bob']\n",
      " [3 1.2 'Charlie']]\n",
      "\n",
      "Record array:\n",
      "[(1, 2.5, 'Alice') (2, 3.7, 'Bob') (3, 1.2, 'Charlie')]\n",
      "\n",
      "Access by field - names: ['Alice' 'Bob' 'Charlie']\n",
      "\n",
      "Access by field - scores: [2.5 3.7 1.2]\n"
     ]
    }
   ],
   "source": [
    "# Regular 2D array\n",
    "regular_array = np.array([[1, 2.5, 'Alice'],\n",
    "                         [2, 3.7, 'Bob'],\n",
    "                         [3, 1.2, 'Charlie']], dtype=object)\n",
    "\n",
    "print(f\"Regular array:\\n{regular_array}\")\n",
    "\n",
    "# structured array with explicit dtype\n",
    "dt = np.dtype([('id', 'i4'), ('score', 'f4'), ('name', 'U10')])\n",
    "record_array = np.zeros(3, dtype=dt)\n",
    "record_array['id'] = [1, 2, 3]\n",
    "record_array['score'] = [2.5, 3.7, 1.2]\n",
    "record_array['name'] = ['Alice', 'Bob', 'Charlie']\n",
    "\n",
    "print(f\"\\nRecord array:\\n{record_array}\")\n",
    "print(f\"\\nAccess by field - names: {record_array['name']}\")\n",
    "print(f\"\\nAccess by field - scores: {record_array['score']}\")\n"
   ]
  },
  {
   "cell_type": "markdown",
   "metadata": {},
   "source": [
    "#### 92. Consider a large vector Z, compute Z to the power of 3 using 3 different methods (★★★)"
   ]
  },
  {
   "cell_type": "code",
   "execution_count": 76,
   "metadata": {},
   "outputs": [
    {
     "name": "stdout",
     "output_type": "stream",
     "text": [
      "Vector size: 1000000\n",
      "[0.0525406  0.85931044 0.39221343 ... 0.07307237 0.07877222 0.802927  ]\n",
      "[0.0525406  0.85931044 0.39221343 ... 0.07307237 0.07877222 0.802927  ]\n"
     ]
    }
   ],
   "source": [
    "np.random.seed(42)\n",
    "Z = np.random.random(1000000)  # Large vector for timing comparison\n",
    "\n",
    "print(f\"Vector size: {len(Z)}\")\n",
    "\n",
    "# Using ** operator\n",
    "Z_cubed1 = Z ** 3\n",
    "\n",
    "#Using np.power\n",
    "Z_cubed2 = np.power(Z, 3)\n",
    "\n",
    "#Using repeated multiplication\n",
    "Z_cubed3 = Z * Z * Z\n",
    "\n",
    "print(Z_cubed1)\n",
    "print(Z_cubed2)"
   ]
  },
  {
   "cell_type": "markdown",
   "metadata": {},
   "source": [
    "#### 93. Consider two arrays A and B of shape (8,3) and (2,2). How to find rows of A that contain elements of each row of B regardless of the order of the elements in B? (★★★)"
   ]
  },
  {
   "cell_type": "code",
   "execution_count": 80,
   "metadata": {},
   "outputs": [
    {
     "name": "stdout",
     "output_type": "stream",
     "text": [
      "Array A (8x3):\n",
      "[[4 5 3]\n",
      " [5 5 2]\n",
      " [3 3 3]\n",
      " [5 4 3]\n",
      " [5 2 4]\n",
      " [2 4 5]\n",
      " [1 4 2]\n",
      " [5 4 1]]\n",
      "\n",
      "Array B (2x2):\n",
      "[[2 3]\n",
      " [1 4]]\n",
      "\n",
      "Rows of A containing all elements of B[0] [2 3]: []\n",
      "\n",
      "Rows of A containing all elements of B[1] [1 4]: [6 7]\n",
      "For B[0] = [2 3]:\n",
      "For B[1] = [1 4]:\n",
      "  A[6] = [1 4 2]\n",
      "  A[7] = [5 4 1]\n"
     ]
    }
   ],
   "source": [
    "np.random.seed(42)\n",
    "A = np.random.randint(1, 6, (8, 3))\n",
    "B = np.array([[2, 3], [1, 4]])\n",
    "\n",
    "print(f\"Array A (8x3):\\n{A}\")\n",
    "print(f\"\\nArray B (2x2):\\n{B}\")\n",
    "\n",
    "def find_rows_containing_elements(A, B):\n",
    "    \"\"\"Find rows of A that contain all elements of each row of B\"\"\"\n",
    "    result = []\n",
    "    for b_row in B:\n",
    "        # For each row in B, find rows in A that contain all elements\n",
    "        contains_all = np.array([np.isin(b_row, a_row).all() for a_row in A])\n",
    "        result.append(np.where(contains_all)[0])\n",
    "    return result\n",
    "\n",
    "matching_rows = find_rows_containing_elements(A, B)\n",
    "print(f\"\\nRows of A containing all elements of B[0] {B[0]}: {matching_rows[0]}\")\n",
    "print(f\"\\nRows of A containing all elements of B[1] {B[1]}: {matching_rows[1]}\")\n",
    "\n",
    "# Show the actual matching rows\n",
    "for i, row_indices in enumerate(matching_rows):\n",
    "    print(f\"For B[{i}] = {B[i]}:\")\n",
    "    for idx in row_indices:\n",
    "        print(f\"  A[{idx}] = {A[idx]}\")"
   ]
  },
  {
   "cell_type": "markdown",
   "metadata": {},
   "source": [
    "#### 94. Considering a 10x3 matrix, extract rows with unequal values (e.g. [2,2,3]) (★★★)"
   ]
  },
  {
   "cell_type": "code",
   "execution_count": 83,
   "metadata": {},
   "outputs": [
    {
     "name": "stdout",
     "output_type": "stream",
     "text": [
      "10x3 matrix:\n",
      "[[3 1 3]\n",
      " [3 1 1]\n",
      " [2 2 2]\n",
      " [3 3 3]\n",
      " [1 3 2]\n",
      " [3 3 3]\n",
      " [2 2 1]\n",
      " [1 2 2]\n",
      " [1 1 1]\n",
      " [3 3 3]]\n",
      "\n",
      "Rows with unequal values:\n",
      "[[3 1 3]\n",
      " [3 1 1]\n",
      " [1 3 2]\n",
      " [2 2 1]\n",
      " [1 2 2]]\n"
     ]
    }
   ],
   "source": [
    "np.random.seed(42)\n",
    "matrix = np.random.randint(1, 4, (10, 3))\n",
    "# Ensure some rows have equal values\n",
    "matrix[2] = [2, 2, 2]\n",
    "matrix[5] = [3, 3, 3]\n",
    "\n",
    "print(f\"10x3 matrix:\\n{matrix}\")\n",
    "\n",
    "# Check if all elements in row are equal\n",
    "unequal_mask = ~np.all(matrix == matrix[:, [0]], axis=1)\n",
    "unequal_rows = matrix[unequal_mask]\n",
    "\n",
    "print(f\"\\nRows with unequal values:\\n{unequal_rows}\")\n",
    "\n",
    "# # Using std (standard deviation > 0 means unequal)\n",
    "# unequal_mask2 = np.std(matrix, axis=1) > 0\n",
    "# unequal_rows2 = matrix[unequal_mask2]\n",
    "\n",
    "# print(f\"Using std method - same result: {np.array_equal(unequal_rows, unequal_rows2)}\")\n",
    "\n",
    "# #Check uniqueness\n",
    "# unequal_mask3 = np.array([len(np.unique(row)) > 1 for row in matrix])\n",
    "# unequal_rows3 = matrix[unequal_mask3]\n",
    "\n",
    "# print(f\"Using unique method - same result: {np.array_equal(unequal_rows, unequal_rows3)}\")"
   ]
  },
  {
   "cell_type": "markdown",
   "metadata": {},
   "source": [
    "#### 95. Convert a vector of ints into a matrix binary representation (★★★)"
   ]
  },
  {
   "cell_type": "code",
   "execution_count": null,
   "metadata": {},
   "outputs": [
    {
     "name": "stdout",
     "output_type": "stream",
     "text": [
      "Integer vector: [ 5 10 15 20]\n",
      "Binary representation (8 bits):\n",
      "[[0 0 0 0 0 1 0 1]\n",
      " [0 0 0 0 1 0 1 0]\n",
      " [0 0 0 0 1 1 1 1]\n",
      " [0 0 0 1 0 1 0 0]]\n",
      "Converted back to decimal: [ 5 10 15 20]\n",
      "Matches original: True\n"
     ]
    }
   ],
   "source": [
    "vector = np.array([5, 10, 15, 20])\n",
    "print(f\"Integer vector: {vector}\")\n",
    "\n",
    "# Using np.unpackbits\n",
    "def int_to_binary_matrix(arr, bits=8):\n",
    "    \"\"\"Convert integers to binary matrix representation\"\"\"\n",
    "    # Ensure we can represent the numbers\n",
    "    max_bits = int(np.ceil(np.log2(np.max(arr) + 1))) if np.max(arr) > 0 else 1\n",
    "    bits = max(bits, max_bits)\n",
    "    \n",
    "    # Convert to bytes then unpack bits\n",
    "    # For simplicity, manual bit extraction\n",
    "    binary_matrix = np.zeros((len(arr), bits), dtype=int)\n",
    "    \n",
    "    for i, num in enumerate(arr):\n",
    "        binary_str = format(num, f'0{bits}b')\n",
    "        binary_matrix[i] = [int(b) for b in binary_str]\n",
    "    \n",
    "    return binary_matrix\n",
    "\n",
    "binary_repr = int_to_binary_matrix(vector, bits=8)\n",
    "print(f\"Binary representation (8 bits):\\n{binary_repr}\")\n",
    "\n",
    "# Verify by converting back\n",
    "decimal_check = np.sum(binary_repr * (2 ** np.arange(7, -1, -1)), axis=1)\n",
    "print(f\"Converted back to decimal: {decimal_check}\")\n",
    "print(f\"Matches original: {np.array_equal(vector, decimal_check)}\")\n"
   ]
  },
  {
   "cell_type": "markdown",
   "metadata": {},
   "source": [
    "#### 96. Given a two dimensional array, how to extract unique rows? (★★★)"
   ]
  },
  {
   "cell_type": "code",
   "execution_count": 85,
   "metadata": {},
   "outputs": [
    {
     "name": "stdout",
     "output_type": "stream",
     "text": [
      "Array with duplicates:\n",
      "[[ 1  2  3]\n",
      " [ 4  5  6]\n",
      " [ 1  2  3]\n",
      " [ 7  8  9]\n",
      " [ 4  5  6]\n",
      " [10 11 12]]\n",
      "Unique rows (np.unique):\n",
      "[[ 1  2  3]\n",
      " [ 4  5  6]\n",
      " [ 7  8  9]\n",
      " [10 11 12]]\n"
     ]
    }
   ],
   "source": [
    "# Create array with some duplicate rows\n",
    "arr_with_dups = np.array([[1, 2, 3],\n",
    "                         [4, 5, 6],\n",
    "                         [1, 2, 3],  # Duplicate\n",
    "                         [7, 8, 9],\n",
    "                         [4, 5, 6],  # Duplicate\n",
    "                         [10, 11, 12]])\n",
    "\n",
    "print(f\"Array with duplicates:\\n{arr_with_dups}\")\n",
    "\n",
    "# Method 1: Using np.unique\n",
    "unique_rows1 = np.unique(arr_with_dups, axis=0)\n",
    "print(f\"Unique rows (np.unique):\\n{unique_rows1}\")"
   ]
  },
  {
   "cell_type": "markdown",
   "metadata": {},
   "source": [
    "#### 97. Considering 2 vectors A & B, write the einsum equivalent of inner, outer, sum, and mul function (★★★)"
   ]
  },
  {
   "cell_type": "code",
   "execution_count": 86,
   "metadata": {},
   "outputs": [
    {
     "name": "stdout",
     "output_type": "stream",
     "text": [
      "A shape: (3, 4)\n",
      "B shape: (4, 3)\n",
      "Inner product - standard: 40, einsum: 40\n",
      "Outer product shapes - standard: (4, 4), einsum: (4, 4)\n",
      "Outer products equal: True\n",
      "Sum - standard: 37, einsum: 37\n",
      "Element-wise multiplication equal: True\n",
      "Matrix multiplication equal: True\n"
     ]
    }
   ],
   "source": [
    "A = np.random.randint(1, 5, (3, 4))\n",
    "B = np.random.randint(1, 5, (4, 3))\n",
    "\n",
    "print(f\"A shape: {A.shape}\")\n",
    "print(f\"B shape: {B.shape}\")\n",
    "\n",
    "# Inner product (when shapes match)\n",
    "A_vec = np.array([1, 2, 3, 4])\n",
    "B_vec = np.array([2, 3, 4, 5])\n",
    "\n",
    "inner_standard = np.inner(A_vec, B_vec)\n",
    "inner_einsum = np.einsum('i,i->', A_vec, B_vec)\n",
    "print(f\"Inner product - standard: {inner_standard}, einsum: {inner_einsum}\")\n",
    "\n",
    "# Outer product\n",
    "outer_standard = np.outer(A_vec, B_vec)\n",
    "outer_einsum = np.einsum('i,j->ij', A_vec, B_vec)\n",
    "print(f\"Outer product shapes - standard: {outer_standard.shape}, einsum: {outer_einsum.shape}\")\n",
    "print(f\"Outer products equal: {np.array_equal(outer_standard, outer_einsum)}\")\n",
    "\n",
    "# Sum\n",
    "sum_standard = np.sum(A)\n",
    "sum_einsum = np.einsum('ij->', A)\n",
    "print(f\"Sum - standard: {sum_standard}, einsum: {sum_einsum}\")\n",
    "\n",
    "# Element-wise multiplication\n",
    "mul_standard = A[:3, :3] * B[:3, :3]  # Make shapes compatible\n",
    "mul_einsum = np.einsum('ij,ij->ij', A[:3, :3], B[:3, :3])\n",
    "print(f\"Element-wise multiplication equal: {np.array_equal(mul_standard, mul_einsum)}\")\n",
    "\n",
    "# Matrix multiplication\n",
    "matmul_standard = A @ B\n",
    "matmul_einsum = np.einsum('ij,jk->ik', A, B)\n",
    "print(f\"Matrix multiplication equal: {np.array_equal(matmul_standard, matmul_einsum)}\")"
   ]
  },
  {
   "cell_type": "markdown",
   "metadata": {},
   "source": [
    "#### 98. Considering a path described by two vectors (X,Y), how to sample it using equidistant samples (★★★)?"
   ]
  },
  {
   "cell_type": "code",
   "execution_count": 87,
   "metadata": {},
   "outputs": [
    {
     "name": "stdout",
     "output_type": "stream",
     "text": [
      "Original path has 100 points\n",
      "Sampled to 20 equidistant points\n",
      "Sample distances - mean: 1.0225, std: 0.0941\n"
     ]
    }
   ],
   "source": [
    "# Create a curved path\n",
    "t = np.linspace(0, 4*np.pi, 100)\n",
    "X = np.sin(t) * t / 4\n",
    "Y = np.cos(t) * t / 4\n",
    "\n",
    "print(f\"Original path has {len(X)} points\")\n",
    "\n",
    "def sample_path_equidistant(X, Y, n_samples):\n",
    "    \"\"\"Sample path with equidistant samples\"\"\"\n",
    "    # Calculate cumulative distance along path\n",
    "    diffs = np.diff(np.column_stack([X, Y]), axis=0)\n",
    "    distances = np.sqrt(np.sum(diffs**2, axis=1))\n",
    "    cumulative_distance = np.concatenate([[0], np.cumsum(distances)])\n",
    "    \n",
    "    # Create equidistant sample points\n",
    "    total_distance = cumulative_distance[-1]\n",
    "    sample_distances = np.linspace(0, total_distance, n_samples)\n",
    "    \n",
    "    # Interpolate X and Y at sample distances\n",
    "    X_sampled = np.interp(sample_distances, cumulative_distance, X)\n",
    "    Y_sampled = np.interp(sample_distances, cumulative_distance, Y)\n",
    "    \n",
    "    return X_sampled, Y_sampled\n",
    "\n",
    "# Sample with 20 equidistant points\n",
    "X_sampled, Y_sampled = sample_path_equidistant(X, Y, 20)\n",
    "print(f\"Sampled to {len(X_sampled)} equidistant points\")\n",
    "\n",
    "# Verify distances are approximately equal\n",
    "diffs_sampled = np.diff(np.column_stack([X_sampled, Y_sampled]), axis=0)\n",
    "distances_sampled = np.sqrt(np.sum(diffs_sampled**2, axis=1))\n",
    "print(f\"Sample distances - mean: {np.mean(distances_sampled):.4f}, std: {np.std(distances_sampled):.4f}\")"
   ]
  },
  {
   "cell_type": "markdown",
   "metadata": {},
   "source": [
    "#### 99. Given an integer n and a 2D array X, select from X the rows which can be interpreted as draws from a multinomial distribution with n degrees, i.e., the rows which only contain integers and which sum to n. (★★★)"
   ]
  },
  {
   "cell_type": "code",
   "execution_count": 90,
   "metadata": {},
   "outputs": [
    {
     "ename": "ValueError",
     "evalue": "setting an array element with a sequence. The requested array has an inhomogeneous shape after 1 dimensions. The detected shape was (7,) + inhomogeneous part.",
     "output_type": "error",
     "traceback": [
      "\u001b[31m---------------------------------------------------------------------------\u001b[39m",
      "\u001b[31mValueError\u001b[39m                                Traceback (most recent call last)",
      "\u001b[36mCell\u001b[39m\u001b[36m \u001b[39m\u001b[32mIn[90]\u001b[39m\u001b[32m, line 2\u001b[39m\n\u001b[32m      1\u001b[39m \u001b[38;5;66;03m# Create test array\u001b[39;00m\n\u001b[32m----> \u001b[39m\u001b[32m2\u001b[39m test_array = \u001b[43mnp\u001b[49m\u001b[43m.\u001b[49m\u001b[43marray\u001b[49m\u001b[43m(\u001b[49m\u001b[43m[\u001b[49m\u001b[43m[\u001b[49m\u001b[32;43m1\u001b[39;49m\u001b[43m,\u001b[49m\u001b[43m \u001b[49m\u001b[32;43m2\u001b[39;49m\u001b[43m,\u001b[49m\u001b[43m \u001b[49m\u001b[32;43m2\u001b[39;49m\u001b[43m]\u001b[49m\u001b[43m,\u001b[49m\u001b[43m      \u001b[49m\u001b[38;5;66;43;03m# Sum = 5\u001b[39;49;00m\n\u001b[32m      3\u001b[39m \u001b[43m                      \u001b[49m\u001b[43m[\u001b[49m\u001b[32;43m3\u001b[39;49m\u001b[43m,\u001b[49m\u001b[43m \u001b[49m\u001b[32;43m1\u001b[39;49m\u001b[43m,\u001b[49m\u001b[43m \u001b[49m\u001b[32;43m1\u001b[39;49m\u001b[43m]\u001b[49m\u001b[43m,\u001b[49m\u001b[43m       \u001b[49m\u001b[38;5;66;43;03m# Sum = 5  \u001b[39;49;00m\n\u001b[32m      4\u001b[39m \u001b[43m                      \u001b[49m\u001b[43m[\u001b[49m\u001b[32;43m2\u001b[39;49m\u001b[43m,\u001b[49m\u001b[43m \u001b[49m\u001b[32;43m1\u001b[39;49m\u001b[43m,\u001b[49m\u001b[43m \u001b[49m\u001b[32;43m2\u001b[39;49m\u001b[43m,\u001b[49m\u001b[43m \u001b[49m\u001b[32;43m0\u001b[39;49m\u001b[43m]\u001b[49m\u001b[43m,\u001b[49m\u001b[43m    \u001b[49m\u001b[38;5;66;43;03m# Sum = 5\u001b[39;49;00m\n\u001b[32m      5\u001b[39m \u001b[43m                      \u001b[49m\u001b[43m[\u001b[49m\u001b[32;43m1.5\u001b[39;49m\u001b[43m,\u001b[49m\u001b[43m \u001b[49m\u001b[32;43m2\u001b[39;49m\u001b[43m,\u001b[49m\u001b[43m \u001b[49m\u001b[32;43m1.5\u001b[39;49m\u001b[43m]\u001b[49m\u001b[43m,\u001b[49m\u001b[43m   \u001b[49m\u001b[38;5;66;43;03m# Sum = 5 but not integers\u001b[39;49;00m\n\u001b[32m      6\u001b[39m \u001b[43m                      \u001b[49m\u001b[43m[\u001b[49m\u001b[32;43m2\u001b[39;49m\u001b[43m,\u001b[49m\u001b[43m \u001b[49m\u001b[32;43m2\u001b[39;49m\u001b[43m,\u001b[49m\u001b[43m \u001b[49m\u001b[32;43m2\u001b[39;49m\u001b[43m]\u001b[49m\u001b[43m,\u001b[49m\u001b[43m       \u001b[49m\u001b[38;5;66;43;03m# Sum = 6\u001b[39;49;00m\n\u001b[32m      7\u001b[39m \u001b[43m                      \u001b[49m\u001b[43m[\u001b[49m\u001b[32;43m1\u001b[39;49m\u001b[43m,\u001b[49m\u001b[43m \u001b[49m\u001b[32;43m1\u001b[39;49m\u001b[43m,\u001b[49m\u001b[43m \u001b[49m\u001b[32;43m1\u001b[39;49m\u001b[43m,\u001b[49m\u001b[43m \u001b[49m\u001b[32;43m1\u001b[39;49m\u001b[43m,\u001b[49m\u001b[43m \u001b[49m\u001b[32;43m1\u001b[39;49m\u001b[43m]\u001b[49m\u001b[43m,\u001b[49m\u001b[43m \u001b[49m\u001b[38;5;66;43;03m# Sum = 5\u001b[39;49;00m\n\u001b[32m      8\u001b[39m \u001b[43m                      \u001b[49m\u001b[43m[\u001b[49m\u001b[32;43m0\u001b[39;49m\u001b[43m,\u001b[49m\u001b[43m \u001b[49m\u001b[32;43m0\u001b[39;49m\u001b[43m,\u001b[49m\u001b[43m \u001b[49m\u001b[32;43m5\u001b[39;49m\u001b[43m]\u001b[49m\u001b[43m]\u001b[49m\u001b[43m)\u001b[49m      \u001b[38;5;66;03m# Sum = 5\u001b[39;00m\n\u001b[32m     10\u001b[39m n = \u001b[32m5\u001b[39m\n\u001b[32m     11\u001b[39m \u001b[38;5;28mprint\u001b[39m(\u001b[33mf\u001b[39m\u001b[33m\"\u001b[39m\u001b[33mTest array with target sum n=\u001b[39m\u001b[38;5;132;01m{\u001b[39;00mn\u001b[38;5;132;01m}\u001b[39;00m\u001b[33m:\u001b[39m\u001b[33m\"\u001b[39m)\n",
      "\u001b[31mValueError\u001b[39m: setting an array element with a sequence. The requested array has an inhomogeneous shape after 1 dimensions. The detected shape was (7,) + inhomogeneous part."
     ]
    }
   ],
   "source": [
    "# Create test array\n",
    "test_array = np.array([[1, 2, 2],      # Sum = 5\n",
    "                      [3, 1, 1],       # Sum = 5  \n",
    "                      [2, 1, 2, 0],    # Sum = 5\n",
    "                      [1.5, 2, 1.5],   # Sum = 5 but not integers\n",
    "                      [2, 2, 2],       # Sum = 6\n",
    "                      [1, 1, 1, 1, 1], # Sum = 5\n",
    "                      [0, 0, 5]])      # Sum = 5\n",
    "\n",
    "n = 5\n",
    "print(f\"Test array with target sum n={n}:\")\n",
    "for i, row in enumerate(test_array):\n",
    "    print(f\"Row {i}: {row} (sum={np.sum(row)})\")\n",
    "\n",
    "def select_multinomial_rows(X, n):\n",
    "    \"\"\"Select rows that could be multinomial draws with n degrees\"\"\"\n",
    "    valid_rows = []\n",
    "    \n",
    "    for i, row in enumerate(X):\n",
    "        # Check if all elements are non-negative integers\n",
    "        if np.all(row >= 0) and np.all(row == np.asarray(row, dtype=int)):\n",
    "            # Check if sum equals n\n",
    "            if np.sum(row) == n:\n",
    "                valid_rows.append(i)\n",
    "    \n",
    "    return np.array(valid_rows)\n",
    "\n",
    "valid_indices = select_multinomial_rows(test_array, n)\n",
    "print(f\"Valid multinomial rows (indices): {valid_indices}\")\n",
    "\n",
    "print(\"Valid rows:\")\n",
    "for idx in valid_indices:\n",
    "    print(f\"Row {idx}: {test_array[idx]}\")"
   ]
  },
  {
   "cell_type": "markdown",
   "metadata": {},
   "source": [
    "#### 100. Compute bootstrapped 95% confidence intervals for the mean of a 1D array X (i.e., resample the elements of an array with replacement N times, compute the mean of each sample, and then compute percentiles over the means). (★★★)"
   ]
  },
  {
   "cell_type": "code",
   "execution_count": 89,
   "metadata": {},
   "outputs": [
    {
     "name": "stdout",
     "output_type": "stream",
     "text": [
      "Original data: mean=10.039, std=1.957, n=1000\n"
     ]
    }
   ],
   "source": [
    "np.random.seed(42)\n",
    "X = np.random.normal(10, 2, 1000)  # Sample data\n",
    "N = 10000  # Number of bootstrap samples\n",
    "\n",
    "print(f\"Original data: mean={np.mean(X):.3f}, std={np.std(X):.3f}, n={len(X)}\")\n",
    "\n",
    "def bootstrap_confidence_interval(data, n_bootstrap=10000, confidence=0.95):\n",
    "    \"\"\"Compute bootstrap confidence interval for the mean\"\"\"\n",
    "    n = len(data)\n",
    "    bootstrap_means = []\n",
    "    \n",
    "    for _ in range(n_bootstrap):\n",
    "        # Resample with replacement\n",
    "        bootstrap_sample = np.random.choice(data, size=n, replace=True)\n",
    "        bootstrap_means.append()"
   ]
  },
  {
   "cell_type": "code",
   "execution_count": null,
   "metadata": {},
   "outputs": [],
   "source": []
  }
 ],
 "metadata": {
  "kernelspec": {
   "display_name": "Python 3",
   "language": "python",
   "name": "python3"
  },
  "language_info": {
   "codemirror_mode": {
    "name": "ipython",
    "version": 3
   },
   "file_extension": ".py",
   "mimetype": "text/x-python",
   "name": "python",
   "nbconvert_exporter": "python",
   "pygments_lexer": "ipython3",
   "version": "3.13.4"
  }
 },
 "nbformat": 4,
 "nbformat_minor": 4
}
