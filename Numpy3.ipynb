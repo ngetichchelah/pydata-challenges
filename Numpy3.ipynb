{
 "cells": [
  {
   "cell_type": "markdown",
   "metadata": {},
   "source": [
    "# Numpy Exercise 3\n",
    "\n",
    "### All of the questions in this exercise are attributed to rougier/numpy-100"
   ]
  },
  {
   "cell_type": "code",
   "execution_count": null,
   "metadata": {},
   "outputs": [],
   "source": []
  },
  {
   "cell_type": "markdown",
   "metadata": {},
   "source": [
    "#### 31. How to ignore all numpy warnings (not recommended)? (★☆☆)"
   ]
  },
  {
   "cell_type": "markdown",
   "metadata": {},
   "source": [
    "Why it's not recommended:\n",
    "\n",
    "- Hidden bugs: Warnings often indicate real problems in your code\n",
    "- Debugging difficulty: You lose valuable diagnostic information\n",
    "- Silent failures: Operations may produce unexpected results without notice\n",
    "- Maintenance issues: Future developers won't see important warnings"
   ]
  },
  {
   "cell_type": "code",
   "execution_count": 2,
   "metadata": {},
   "outputs": [
    {
     "ename": "AttributeError",
     "evalue": "module 'numpy' has no attribute 'VisibleDeprecationWarning'",
     "output_type": "error",
     "traceback": [
      "\u001b[31m---------------------------------------------------------------------------\u001b[39m",
      "\u001b[31mAttributeError\u001b[39m                            Traceback (most recent call last)",
      "\u001b[36mCell\u001b[39m\u001b[36m \u001b[39m\u001b[32mIn[2]\u001b[39m\u001b[32m, line 5\u001b[39m\n\u001b[32m      2\u001b[39m \u001b[38;5;28;01mimport\u001b[39;00m\u001b[38;5;250m \u001b[39m\u001b[34;01mwarnings\u001b[39;00m\n\u001b[32m      4\u001b[39m \u001b[38;5;66;03m# Ignore all numpy warnings\u001b[39;00m\n\u001b[32m----> \u001b[39m\u001b[32m5\u001b[39m warnings.filterwarnings(\u001b[33m'\u001b[39m\u001b[33mignore\u001b[39m\u001b[33m'\u001b[39m, category=\u001b[43mnp\u001b[49m\u001b[43m.\u001b[49m\u001b[43mVisibleDeprecationWarning\u001b[49m)\n\u001b[32m      6\u001b[39m warnings.filterwarnings(\u001b[33m'\u001b[39m\u001b[33mignore\u001b[39m\u001b[33m'\u001b[39m, category=np.ComplexWarning)\n\u001b[32m      7\u001b[39m warnings.filterwarnings(\u001b[33m'\u001b[39m\u001b[33mignore\u001b[39m\u001b[33m'\u001b[39m, category=np.RankWarning)\n",
      "\u001b[36mFile \u001b[39m\u001b[32mc:\\Users\\Administrator\\AppData\\Local\\Programs\\Python\\Python313\\Lib\\site-packages\\numpy\\__init__.py:808\u001b[39m, in \u001b[36m__getattr__\u001b[39m\u001b[34m(attr)\u001b[39m\n\u001b[32m    805\u001b[39m     \u001b[38;5;28;01mimport\u001b[39;00m\u001b[38;5;250m \u001b[39m\u001b[34;01mnumpy\u001b[39;00m\u001b[34;01m.\u001b[39;00m\u001b[34;01mchar\u001b[39;00m\u001b[38;5;250m \u001b[39m\u001b[38;5;28;01mas\u001b[39;00m\u001b[38;5;250m \u001b[39m\u001b[34;01mchar\u001b[39;00m\n\u001b[32m    806\u001b[39m     \u001b[38;5;28;01mreturn\u001b[39;00m char.chararray\n\u001b[32m--> \u001b[39m\u001b[32m808\u001b[39m \u001b[38;5;28;01mraise\u001b[39;00m \u001b[38;5;167;01mAttributeError\u001b[39;00m(\u001b[33mf\u001b[39m\u001b[33m\"\u001b[39m\u001b[33mmodule \u001b[39m\u001b[38;5;132;01m{\u001b[39;00m\u001b[34m__name__\u001b[39m\u001b[38;5;132;01m!r}\u001b[39;00m\u001b[33m has no attribute \u001b[39m\u001b[38;5;132;01m{\u001b[39;00mattr\u001b[38;5;132;01m!r}\u001b[39;00m\u001b[33m\"\u001b[39m)\n",
      "\u001b[31mAttributeError\u001b[39m: module 'numpy' has no attribute 'VisibleDeprecationWarning'"
     ]
    }
   ],
   "source": [
    "import numpy as np\n",
    "import warnings\n",
    "\n",
    "# Ignore all numpy warnings\n",
    "warnings.filterwarnings('ignore', category=np.VisibleDeprecationWarning)\n",
    "warnings.filterwarnings('ignore', category=np.ComplexWarning)\n",
    "warnings.filterwarnings('ignore', category=np.RankWarning)\n",
    "\n",
    "# Or more broadly, ignore all warnings from numpy\n",
    "warnings.filterwarnings('ignore', module='numpy')"
   ]
  },
  {
   "cell_type": "markdown",
   "metadata": {},
   "source": [
    "#### 32. Is the following expressions true? (★☆☆)\n",
    "```python\n",
    "np.sqrt(-1) == np.emath.sqrt(-1)\n",
    "```"
   ]
  },
  {
   "cell_type": "code",
   "execution_count": 4,
   "metadata": {},
   "outputs": [
    {
     "name": "stdout",
     "output_type": "stream",
     "text": [
      "np.sqrt(-1) = nan\n",
      "\n",
      "np.emath.sqrt(-1) = 1j\n",
      "\n",
      "Are they equal? False\n"
     ]
    },
    {
     "name": "stderr",
     "output_type": "stream",
     "text": [
      "C:\\Users\\Administrator\\AppData\\Local\\Temp\\ipykernel_3972\\141681881.py:4: RuntimeWarning: invalid value encountered in sqrt\n",
      "  result1 = np.sqrt(-1)\n"
     ]
    }
   ],
   "source": [
    "import numpy as np\n",
    "\n",
    "# Regular sqrt returns nan (with a warning)\n",
    "result1 = np.sqrt(-1)  \n",
    "\n",
    "# emath.sqrt returns complex number\n",
    "result2 = np.emath.sqrt(-1)  \n",
    "\n",
    "print(f\"np.sqrt(-1) = {result1}\")     \n",
    "print()      \n",
    "print(f\"np.emath.sqrt(-1) = {result2}\")    \n",
    "print()\n",
    "print(f\"Are they equal? {result1 == result2}\")  # False\n",
    "\n",
    "# nan is never equal to anything, including itself\n",
    "# print(f\"nan == nan: {np.nan == np.nan}\")   "
   ]
  },
  {
   "cell_type": "markdown",
   "metadata": {},
   "source": [
    "#### 33. How to get the dates of yesterday, today and tomorrow? (★☆☆)"
   ]
  },
  {
   "cell_type": "code",
   "execution_count": 8,
   "metadata": {},
   "outputs": [
    {
     "name": "stdout",
     "output_type": "stream",
     "text": [
      "Yesterday: 2025-07-27\n",
      "Today: 2025-07-28\n",
      "Tomorrow: 2025-07-29\n",
      "\n",
      "Yesterday: 2025-07-27\n",
      "Today: 2025-07-28\n",
      "Tomorrow: 2025-07-29\n"
     ]
    }
   ],
   "source": [
    "import numpy as np\n",
    "\n",
    "# Method 1: Using numpy datetime\n",
    "today = np.datetime64('today')\n",
    "yesterday = today - np.timedelta64(1, 'D')\n",
    "tomorrow = today + np.timedelta64(1, 'D')\n",
    "\n",
    "print(f\"Yesterday: {yesterday}\")\n",
    "print(f\"Today: {today}\")\n",
    "print(f\"Tomorrow: {tomorrow}\")\n",
    "print()\n",
    "# Method 2: More explicit\n",
    "today = np.datetime64('today', 'D')\n",
    "yesterday = today - 1\n",
    "tomorrow = today + 1\n",
    "print(f\"Yesterday: {yesterday}\")\n",
    "print(f\"Today: {today}\")\n",
    "print(f\"Tomorrow: {tomorrow}\")"
   ]
  },
  {
   "cell_type": "markdown",
   "metadata": {},
   "source": [
    "#### 34. How to get all the dates corresponding to the month of July 2016? (★★☆)"
   ]
  },
  {
   "cell_type": "code",
   "execution_count": null,
   "metadata": {},
   "outputs": [
    {
     "name": "stdout",
     "output_type": "stream",
     "text": [
      "July 2016 dates: ['2016-07-01' '2016-07-02' '2016-07-03' '2016-07-04' '2016-07-05'\n",
      " '2016-07-06' '2016-07-07' '2016-07-08' '2016-07-09' '2016-07-10'\n",
      " '2016-07-11' '2016-07-12' '2016-07-13' '2016-07-14' '2016-07-15'\n",
      " '2016-07-16' '2016-07-17' '2016-07-18' '2016-07-19' '2016-07-20'\n",
      " '2016-07-21' '2016-07-22' '2016-07-23' '2016-07-24' '2016-07-25'\n",
      " '2016-07-26' '2016-07-27' '2016-07-28' '2016-07-29' '2016-07-30'\n",
      " '2016-07-31']\n",
      "\n",
      "Number of days: 31\n",
      "First day: 2016-07-01\n",
      "Last day: 2016-07-31\n"
     ]
    }
   ],
   "source": [
    "import numpy as np\n",
    "\n",
    "# Method 1: Using arange\n",
    "july_2016 = np.arange('2016-07-01', '2016-08-01', dtype='datetime64[D]')\n",
    "print(f\"July 2016 dates: {july_2016}\")\n",
    "\n",
    "# # Method 2: More explicit range\n",
    "# start = np.datetime64('2016-07-01')\n",
    "# end = np.datetime64('2016-08-01') #excusive end\n",
    "# july_2016 = np.arange(start, end, dtype='datetime64[D]')\n",
    "\n",
    "# # Method 3: Using timedelta\n",
    "# start = np.datetime64('2016-07-01')\n",
    "# july_2016 = start + np.arange(31)  # July has 31 days\n",
    "print()\n",
    "print(f\"Number of days: {len(july_2016)}\")\n",
    "print(f\"First day: {july_2016[0]}\")\n",
    "print(f\"Last day: {july_2016[-1]}\")"
   ]
  },
  {
   "cell_type": "markdown",
   "metadata": {},
   "source": [
    "#### 35. How to compute ((A+B)*(-A/2)) in place (without copy)? (★★☆)\n",
    "\n",
    "The \"in-place\" constraint means we can't create large temporary arrays, but we still need to preserve the original A values somehow - either in a small temp variable or by reusing existing memory (like array B).\n"
   ]
  },
  {
   "cell_type": "code",
   "execution_count": null,
   "metadata": {},
   "outputs": [
    {
     "name": "stdout",
     "output_type": "stream",
     "text": [
      "[ -3. -12. -27.]\n"
     ]
    }
   ],
   "source": [
    "import numpy as np\n",
    "\n",
    "A = np.array([2., 4., 6.])\n",
    "B = np.array([1., 2., 3.])\n",
    "original_A = A.copy()  #as control\n",
    "# Expected result: ([3, 6, 9] * [-1, -2, -3]) = [-3, -12, -27]\n",
    "\n",
    "# Method 1: Using a temporary variable\n",
    "def compute_inplace_v1(A, B):\n",
    "    temp = A.copy()  # Small temporary copy\n",
    "    A += B           # A = A + B (in-place)\n",
    "    temp /= -2       # temp = -A/2\n",
    "    A *= temp        # A = (A+B) * (-A/2) (in-place)\n",
    "    return A\n",
    "result = compute_inplace_v1(A, B)\n",
    "print(result)  \n",
    "\n",
    "\n",
    "# # Method 2: Carefully ordered operations\n",
    "# def compute_inplace_v2(A, B):\n",
    "#     # We need to be very careful about order\n",
    "#     A /= -2          # A = -A/2 (in-place)\n",
    "#     A *= (original_A + B)  # This requires original A values\n",
    "#     return A\n",
    "# result = compute_inplace_v2(A, B)\n",
    "# print(result)\n",
    "\n",
    "# # Method 3: Most memory-efficient (reusing B if allowed)\n",
    "# def compute_inplace_v3(A, B):\n",
    "#     B += A           # B = A + B (reuse B as temp)\n",
    "#     A /= -2          # A = -A/2\n",
    "#     A *= B           # A = (A+B) * (-A/2)\n",
    "#     return A\n",
    "# result = compute_inplace_v3(A, B)\n",
    "# print(result) \n"
   ]
  },
  {
   "cell_type": "markdown",
   "metadata": {},
   "source": [
    "#### 36. Extract the integer part of a random array of positive numbers using 4 different methods (★★☆)"
   ]
  },
  {
   "cell_type": "code",
   "execution_count": null,
   "metadata": {},
   "outputs": [],
   "source": [
    "import numpy as np\n",
    "\n",
    "# Create random array of positive numbers\n",
    "arr = np.random.uniform(1, 100, 10)\n",
    "print(f\"Original array: {arr}\")\n",
    "\n",
    "# Method 1: Using astype\n",
    "method1 = arr.astype(int)\n",
    "\n",
    "# Method 2: Using np.floor\n",
    "method2 = np.floor(arr).astype(int)\n",
    "\n",
    "# Method 3: Using np.trunc\n",
    "method3 = np.trunc(arr).astype(int)\n",
    "\n",
    "# Method 4: Using modulo arithmetic\n",
    "method4 = arr - arr % 1\n",
    "\n",
    "print(f\"Method 1 (astype): {method1}\")\n",
    "print(f\"Method 2 (floor): {method2}\")\n",
    "print(f\"Method 3 (trunc): {method3}\")\n",
    "print(f\"Method 4 (modulo): {method4}\")"
   ]
  },
  {
   "cell_type": "markdown",
   "metadata": {},
   "source": [
    "#### 37. Create a 5x5 matrix with row values ranging from 0 to 4 (★★☆)"
   ]
  },
  {
   "cell_type": "code",
   "execution_count": 36,
   "metadata": {},
   "outputs": [
    {
     "name": "stdout",
     "output_type": "stream",
     "text": [
      "[[0. 0. 0. 0. 0.]\n",
      " [0. 0. 0. 0. 0.]\n",
      " [0. 0. 0. 0. 0.]\n",
      " [0. 0. 0. 0. 0.]\n",
      " [0. 0. 0. 0. 0.]]\n",
      "[0 1 2 3 4]\n",
      "(array([0, 1, 2, 3, 4]), 5)\n",
      "\n",
      "Method 1 (broadcasting):\n",
      "[[0. 1. 2. 3. 4.]\n",
      " [0. 1. 2. 3. 4.]\n",
      " [0. 1. 2. 3. 4.]\n",
      " [0. 1. 2. 3. 4.]\n",
      " [0. 1. 2. 3. 4.]]\n",
      "\n",
      "Method 2 (tile):\n",
      "[[0 1 2 3 4]\n",
      " [0 1 2 3 4]\n",
      " [0 1 2 3 4]\n",
      " [0 1 2 3 4]\n",
      " [0 1 2 3 4]]\n",
      "\n",
      "Method 3\n",
      "[[0 0 0 0 0]\n",
      " [1 1 1 1 1]\n",
      " [2 2 2 2 2]\n",
      " [3 3 3 3 3]\n",
      " [4 4 4 4 4]]\n",
      "\n",
      "Method 4\n",
      "[[0. 1. 2. 3. 4.]\n",
      " [0. 1. 2. 3. 4.]\n",
      " [0. 1. 2. 3. 4.]\n",
      " [0. 1. 2. 3. 4.]\n",
      " [0. 1. 2. 3. 4.]]\n"
     ]
    }
   ],
   "source": [
    "import numpy as np\n",
    "\n",
    "# Method 1: Using broadcasting\n",
    "matrix1 = np.zeros((5, 5)) + np.arange(5)\n",
    "print(np.zeros((5, 5)))\n",
    "print(np.arange(5))\n",
    "print((np.arange(5), 5))\n",
    "print()\n",
    "\n",
    "# Method 2: Using tile\n",
    "matrix2 = np.tile(np.arange(5), (5, 1))\n",
    "\n",
    "# Method 3: Using repeat and reshape\n",
    "matrix3 = np.repeat(np.arange(5), 5).reshape(5, 5)\n",
    "\n",
    "# Method 4: Using broadcasting with newaxis\n",
    "matrix4 = np.arange(5)[np.newaxis, :] + np.zeros((5, 1))\n",
    "\n",
    "print(\"Method 1 (broadcasting):\")\n",
    "print(matrix1)\n",
    "print(\"\\nMethod 2 (tile):\")\n",
    "print(matrix2)\n",
    "print(\"\\nMethod 3\")\n",
    "print(matrix3)\n",
    "print(\"\\nMethod 4\")\n",
    "print(matrix4)\n"
   ]
  },
  {
   "cell_type": "markdown",
   "metadata": {},
   "source": [
    "#### 38. Consider a generator function that generates 10 integers and use it to build an array (★☆☆)\n",
    "\n",
    "Generator is a Python function that yields values one at a time, rather than computing and storing all values at once.\n"
   ]
  },
  {
   "cell_type": "code",
   "execution_count": 40,
   "metadata": {},
   "outputs": [
    {
     "name": "stdout",
     "output_type": "stream",
     "text": [
      "Array from generator: [ 0  1  4  9 16 25 36 49 64 81]\n"
     ]
    }
   ],
   "source": [
    "import numpy as np\n",
    "\n",
    "# Define generator function\n",
    "def generate_integers():\n",
    "    for i in range(10):\n",
    "        yield i ** 2  # Generate squares of 0-9\n",
    "\n",
    "#  Using np.fromiter\n",
    "# fromiter() is designed specifically for iterators/generators\n",
    "arr = np.fromiter(generate_integers(), dtype=int)\n",
    "\n",
    "# # Using list comprehension\n",
    "# arr = np.array(list(generate_integers()))\n",
    "\n",
    "# # Using np.array directly on generator\n",
    "# arr = np.array([x for x in generate_integers()])\n",
    "\n",
    "print(f\"Array from generator: {arr}\")\n"
   ]
  },
  {
   "cell_type": "markdown",
   "metadata": {},
   "source": [
    "#### 39. Create a vector of size 10 with values ranging from 0 to 1, both excluded (★★☆)"
   ]
  },
  {
   "cell_type": "code",
   "execution_count": null,
   "metadata": {},
   "outputs": [
    {
     "name": "stdout",
     "output_type": "stream",
     "text": [
      "Method 1: [0.09090909 0.18181818 0.27272727 0.36363636 0.45454545 0.54545455\n",
      " 0.63636364 0.72727273 0.81818182 0.90909091]\n",
      "\n",
      "Method 2: [0.09090909 0.18181818 0.27272727 0.36363636 0.45454545 0.54545455\n",
      " 0.63636364 0.72727273 0.81818182]\n",
      "\n",
      "Method 4: [0.1        0.18888889 0.27777778 0.36666667 0.45555556 0.54444444\n",
      " 0.63333333 0.72222222 0.81111111 0.9       ]\n"
     ]
    }
   ],
   "source": [
    "import numpy as np\n",
    "\n",
    "# Method 1: Using linspace\n",
    "vector1 = np.linspace( 0, 1, 12)[1:-1]  # Exclude first and last\n",
    "\n",
    "# Method 2: Using arange\n",
    "vector2 = np.arange(1, 10) / 11 #10/11 avoids 0 and 1\n",
    "\n",
    "# Method 4: More precise with linspace\n",
    "vector4 = np.linspace(0.1, 0.9, 10)\n",
    "\n",
    "print(f\"Method 1: {vector1}\")\n",
    "print(f\"\\nMethod 2: {vector2}\")\n",
    "print(f\"\\nMethod 4: {vector4}\")"
   ]
  },
  {
   "cell_type": "markdown",
   "metadata": {},
   "source": [
    "#### 40. Create a random vector of size 10 and sort it (★★☆)\n",
    "\n",
    "- np.sort(): Creates new array\n",
    "- .sort(): Modifies original\n",
    "- argsort(): Returns indices, useful for sorting multiple arrays consistently"
   ]
  },
  {
   "cell_type": "code",
   "execution_count": null,
   "metadata": {},
   "outputs": [
    {
     "name": "stdout",
     "output_type": "stream",
     "text": [
      "Original:\n",
      " [0.37454012 0.95071431 0.73199394 0.59865848 0.15601864 0.15599452\n",
      " 0.05808361 0.86617615 0.60111501 0.70807258]\n",
      "Sorted:\n",
      " [0.05808361 0.15599452 0.15601864 0.37454012 0.59865848 0.60111501\n",
      " 0.70807258 0.73199394 0.86617615 0.95071431]\n",
      "In-place sorted:\n",
      " [0.05808361 0.15599452 0.15601864 0.37454012 0.59865848 0.60111501\n",
      " 0.70807258 0.73199394 0.86617615 0.95071431]\n",
      "Sorted via indices:\n",
      " [0.05808361 0.15599452 0.15601864 0.37454012 0.59865848 0.60111501\n",
      " 0.70807258 0.73199394 0.86617615 0.95071431]\n"
     ]
    }
   ],
   "source": [
    "import numpy as np\n",
    "\n",
    "# Create random vector\n",
    "np.random.seed(42)\n",
    "vector = np.random.random(10)\n",
    "print(f\"Original:\\n {vector}\")\n",
    "\n",
    "# Method 1: Using np.sort (returns sorted copy)\n",
    "sorted1 = np.sort(vector)\n",
    "\n",
    "# Method 2: Using .sort() method (in-place)\n",
    "vector_copy = vector.copy()\n",
    "vector_copy.sort()\n",
    "\n",
    "# Method 3: Using argsort for indices \n",
    "#argsort() - returns indices that would sort the array\n",
    "indices = np.argsort(vector)\n",
    "sorted3 = vector[indices]\n",
    "\n",
    "print(f\"Sorted:\\n {sorted1}\")\n",
    "print(f\"In-place sorted:\\n {vector_copy}\")\n",
    "print(f\"Sorted via indices:\\n {sorted3}\")"
   ]
  },
  {
   "cell_type": "markdown",
   "metadata": {},
   "source": [
    "#### 41. How to sum a small array faster than np.sum? (★★☆)\n",
    "- Rough guideline:\n",
    "- Arrays < 50 elements: Python sum() often faster\n",
    "- Arrays > 50 elements: np.sum() becomes faster\n",
    "- Arrays > 1000 elements: np.sum() much faster"
   ]
  },
  {
   "cell_type": "code",
   "execution_count": 60,
   "metadata": {},
   "outputs": [
    {
     "name": "stdout",
     "output_type": "stream",
     "text": [
      "[0.37454012 0.95071431 0.73199394 0.59865848 0.15601864 0.15599452\n",
      " 0.05808361 0.86617615 0.60111501 0.70807258]\n",
      "Built-in sum\n",
      ": 5.201367359526748\n",
      "np.sum\n",
      ": 5.201367359526748\n",
      "Manual loop\n",
      "5.201367359526748\n"
     ]
    }
   ],
   "source": [
    "import numpy as np\n",
    "\n",
    "# Create small array\n",
    "np.random.seed(42)\n",
    "arr = np.random.random(10)\n",
    "print(arr)\n",
    "\n",
    "# Method 1: Python built-in sum (can be faster for very small arrays)\n",
    "result1 = sum(arr) # Converts to Python floats and sums\n",
    "\n",
    "# Method 2: Using np.add.reduce\n",
    "result2 = np.add.reduce(arr)\n",
    "\n",
    "# Method 4: Manual loop (for very small arrays)\n",
    "result4 = 0\n",
    "for x in arr:\n",
    "    result4 += x\n",
    "\n",
    "print(f\"Built-in sum\\n: {result1}\")\n",
    "print(f\"np.sum\\n: {np.sum(arr)}\")\n",
    "print(f\"Manual loop\\n{result4}\")\n",
    "\n",
    "# For very small arrays (< 50 elements), Python's sum() can be faster due to lower function call overhead"
   ]
  },
  {
   "cell_type": "markdown",
   "metadata": {},
   "source": [
    "#### 42. Consider two random array A and B, check if they are equal (★★☆)"
   ]
  },
  {
   "cell_type": "code",
   "execution_count": 63,
   "metadata": {},
   "outputs": [
    {
     "name": "stdout",
     "output_type": "stream",
     "text": [
      "A: [0.37454012 0.95071431 0.73199394 0.59865848 0.15601864]\n",
      "B: [0.15599452 0.05808361 0.86617615 0.60111501 0.70807258]\n",
      "\n",
      "A == B: False\n",
      "A == C: True\n"
     ]
    }
   ],
   "source": [
    "import numpy as np\n",
    "\n",
    "# Create two arrays\n",
    "np.random.seed(42)\n",
    "A = np.random.random(5)\n",
    "B = np.random.random(5)\n",
    "C = A.copy()  # Make C equal to A\n",
    "print(f\"A: {A}\")\n",
    "print(f\"B: {B}\")\n",
    "print()\n",
    "\n",
    "# Method 1: Using np.array_equal (exact equality)\n",
    "equal1 = np.array_equal(A, B)\n",
    "equal2 = np.array_equal(A, C)\n",
    "print(f\"A == B: {equal1}\")\n",
    "\n",
    "# Method 2: Using np.allclose (approximate equality)\n",
    "equal3 = np.allclose(A, B)\n",
    "equal4 = np.allclose(A, C)\n",
    "print(f\"A == C: {equal2}\")"
   ]
  },
  {
   "cell_type": "markdown",
   "metadata": {},
   "source": [
    "#### 43. Make an array immutable (read-only) (★★☆)"
   ]
  },
  {
   "cell_type": "code",
   "execution_count": 68,
   "metadata": {},
   "outputs": [
    {
     "name": "stdout",
     "output_type": "stream",
     "text": [
      "Original: [1 2 3 4 5]\n",
      "Writable: True\n",
      "Writable:False\n",
      "Error: assignment destination is read-only\n",
      "Original array can still be modified:\n",
      " [1 2 3 4 5]\n",
      "Modified original:\n",
      " [100   2   3   4   5]\n",
      "View reflects changes:\n",
      " [100   2   3   4   5]\n",
      "View modification error: assignment destination is read-only\n"
     ]
    }
   ],
   "source": [
    "import numpy as np\n",
    "\n",
    "# Create array\n",
    "arr = np.array([1, 2, 3, 4, 5])\n",
    "print(f\"Original: {arr}\")\n",
    "print(f\"Writable: {arr.flags.writeable}\")\n",
    "\n",
    "# Method 1: Set writeable flag to False\n",
    "arr.flags.writeable = False\n",
    "print(f\"Writable:{arr.flags.writeable}\")\n",
    "\n",
    "# Try to modify (this will raise an error)\n",
    "try:\n",
    "    arr[0] = 10\n",
    "except ValueError as e:\n",
    "    print(f\"Error: {e}\")\n",
    "\n",
    "# Method 2: Using np.asarray with readonly\n",
    "arr2 = np.array([1, 2, 3, 4, 5])\n",
    "readonly_view = arr2.view()\n",
    "readonly_view.flags.writeable = False\n",
    "\n",
    "print(f\"Original array can still be modified:\\n {arr2}\")\n",
    "arr2[0] = 100\n",
    "print(f\"Modified original:\\n {arr2}\")\n",
    "print(f\"View reflects changes:\\n {readonly_view}\")\n",
    "\n",
    "try:\n",
    "    readonly_view[1] = 88\n",
    "except ValueError as e:\n",
    "    print(f\"View modification error: {e}\")"
   ]
  },
  {
   "cell_type": "markdown",
   "metadata": {},
   "source": [
    "#### 44. Consider a random 10x2 matrix representing cartesian coordinates, convert them to polar coordinates (★★☆)\n",
    "\n",
    "- Cartesian coordinates can be used in three dimensions (x, y, and z), polar coordinates only specify two dimensions (r and θ)."
   ]
  },
  {
   "cell_type": "code",
   "execution_count": null,
   "metadata": {},
   "outputs": [
    {
     "name": "stdout",
     "output_type": "stream",
     "text": [
      "Cartesian coordinates (x, y)\n",
      "[[-2.50919762  9.01428613]\n",
      " [ 4.63987884  1.97316968]\n",
      " [-6.87962719 -6.88010959]\n",
      " [-8.83832776  7.32352292]\n",
      " [ 2.02230023  4.16145156]\n",
      " [-9.58831011  9.39819704]\n",
      " [ 6.64885282 -5.75321779]\n",
      " [-6.36350066 -6.3319098 ]\n",
      " [-3.91515514  0.49512863]\n",
      " [-1.36109963 -4.1754172 ]]\n",
      "\n",
      "Polar coordinates (r, θ):\n",
      "[[ 9.35699883  1.84228165]\n",
      " [ 5.04201093  0.40209355]\n",
      " [ 9.72960319 -2.35615943]\n",
      " [11.47824139  2.44964866]\n",
      " [ 4.6268107   1.11844343]\n",
      " [13.42616097  2.36620722]\n",
      " [ 8.79242621 -0.71330674]\n",
      " [ 8.97703862 -2.35868285]\n",
      " [ 3.94633908  3.01579583]\n",
      " [ 4.39166266 -1.88591373]]\n",
      "\n",
      "Polar coordinates (r, θ in degrees):\n",
      "[[   9.35699883  105.55496316]\n",
      " [   5.04201093   23.03826351]\n",
      " [   9.72960319 -134.99799127]\n",
      " [  11.47824139  140.35452948]\n",
      " [   4.6268107    64.08208829]\n",
      " [  13.42616097  135.57368701]\n",
      " [   8.79242621  -40.8694658 ]\n",
      " [   8.97703862 -135.14257269]\n",
      " [   3.94633908  172.79237271]\n",
      " [   4.39166266 -108.05489699]]\n"
     ]
    }
   ],
   "source": [
    "import numpy as np\n",
    "\n",
    "# Create random 10x2 matrix (x, y coordinates)\n",
    "np.random.seed(42)\n",
    "cartesian = np.random.uniform(-10, 10, (10, 2))\n",
    "print(\"Cartesian coordinates (x, y)\")\n",
    "print(cartesian)\n",
    "\n",
    "# Extract x and y\n",
    "x, y = cartesian[:, 0], cartesian[:, 1]\n",
    "# x = cartesian[:, 0]  # Extract x coordinates\n",
    "# y = cartesian[:, 1]  # Extract y coordinates\n",
    "\n",
    "# Convert to polar coordinates\n",
    "# r = sqrt(x² + y²)\n",
    "# θ = arctan2(y, x)\n",
    "r = np.sqrt(x**2 + y**2) # Distance from origin\n",
    "theta = np.arctan2(y, x)  # Angle from positive x-axis\n",
    "\n",
    "# Combine into polar coordinate matrix\n",
    "polar = np.column_stack((r, theta))\n",
    "\n",
    "print(\"\\nPolar coordinates (r, θ):\")\n",
    "print(polar)\n",
    "\n",
    "# Convert theta to degrees if desired\n",
    "theta_degrees = np.degrees(theta)\n",
    "polar_degrees = np.column_stack((r, theta_degrees))\n",
    "print(\"\\nPolar coordinates (r, θ in degrees):\")\n",
    "print(polar_degrees)"
   ]
  },
  {
   "cell_type": "markdown",
   "metadata": {},
   "source": [
    "#### 45. Create random vector of size 10 and replace the maximum value by 0 (★★☆)"
   ]
  },
  {
   "cell_type": "code",
   "execution_count": 75,
   "metadata": {},
   "outputs": [
    {
     "name": "stdout",
     "output_type": "stream",
     "text": [
      "Original vector: [6 3 7 4 6 9 2 6 7 4]\n",
      "Max replaced (argmax): [6 3 7 4 6 0 2 6 7 4]\n",
      "Max replaced (boolean indexing): [6 3 7 4 6 0 2 6 7 4]\n",
      "Max replaced (np.where): [6 3 7 4 6 0 2 6 7 4]\n"
     ]
    }
   ],
   "source": [
    "import numpy as np\n",
    "\n",
    "# Create random vector\n",
    "np.random.seed(42)\n",
    "vector = np.random.randint(10, size=10)\n",
    "print(f\"Original vector: {vector}\")\n",
    "\n",
    "# Using argmax (replaces first occurrence only)\n",
    "vector_copy1 = vector.copy()\n",
    "vector_copy1[np.argmax(vector_copy1)] = 0\n",
    "\n",
    "#Using boolean indexing (replaces ALL max values)\n",
    "vector_copy2 = vector.copy()\n",
    "vector_copy2[vector_copy2 == vector_copy2.max()] = 0\n",
    "\n",
    "# Using np.where\n",
    "vector_copy3 = np.where(vector == vector.max(), 0, vector)\n",
    "\n",
    "\n",
    "print(f\"Max replaced (argmax): {vector_copy1}\")\n",
    "print(f\"Max replaced (boolean indexing): {vector_copy2}\")\n",
    "print(f\"Max replaced (np.where): {vector_copy3}\")\n"
   ]
  },
  {
   "cell_type": "markdown",
   "metadata": {},
   "source": []
  }
 ],
 "metadata": {
  "kernelspec": {
   "display_name": "Python 3",
   "language": "python",
   "name": "python3"
  },
  "language_info": {
   "codemirror_mode": {
    "name": "ipython",
    "version": 3
   },
   "file_extension": ".py",
   "mimetype": "text/x-python",
   "name": "python",
   "nbconvert_exporter": "python",
   "pygments_lexer": "ipython3",
   "version": "3.13.4"
  }
 },
 "nbformat": 4,
 "nbformat_minor": 4
}
