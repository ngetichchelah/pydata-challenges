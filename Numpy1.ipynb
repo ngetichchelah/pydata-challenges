{
 "cells": [
  {
   "cell_type": "markdown",
   "metadata": {},
   "source": [
    "# Numpy Exercise 1\n",
    "\n",
    "### All of the questions in this exercise are attributed to rougier/numpy-100"
   ]
  },
  {
   "cell_type": "code",
   "execution_count": null,
   "metadata": {},
   "outputs": [],
   "source": []
  },
  {
   "cell_type": "markdown",
   "metadata": {},
   "source": [
    "#### 1. Import the numpy package under the name `np` (★☆☆)"
   ]
  },
  {
   "cell_type": "code",
   "execution_count": 1,
   "metadata": {},
   "outputs": [],
   "source": [
    "import numpy as np"
   ]
  },
  {
   "cell_type": "markdown",
   "metadata": {},
   "source": [
    "#### 2. Print the numpy version and the configuration (★☆☆)"
   ]
  },
  {
   "cell_type": "code",
   "execution_count": 3,
   "metadata": {},
   "outputs": [
    {
     "name": "stdout",
     "output_type": "stream",
     "text": [
      "NumPy version: 2.3.1\n",
      "{\n",
      "  \"Compilers\": {\n",
      "    \"c\": {\n",
      "      \"name\": \"msvc\",\n",
      "      \"linker\": \"link\",\n",
      "      \"version\": \"19.43.34808\",\n",
      "      \"commands\": \"cl\"\n",
      "    },\n",
      "    \"cython\": {\n",
      "      \"name\": \"cython\",\n",
      "      \"linker\": \"cython\",\n",
      "      \"version\": \"3.1.2\",\n",
      "      \"commands\": \"cython\"\n",
      "    },\n",
      "    \"c++\": {\n",
      "      \"name\": \"msvc\",\n",
      "      \"linker\": \"link\",\n",
      "      \"version\": \"19.43.34808\",\n",
      "      \"commands\": \"cl\"\n",
      "    }\n",
      "  },\n",
      "  \"Machine Information\": {\n",
      "    \"host\": {\n",
      "      \"cpu\": \"x86_64\",\n",
      "      \"family\": \"x86_64\",\n",
      "      \"endian\": \"little\",\n",
      "      \"system\": \"windows\"\n",
      "    },\n",
      "    \"build\": {\n",
      "      \"cpu\": \"x86_64\",\n",
      "      \"family\": \"x86_64\",\n",
      "      \"endian\": \"little\",\n",
      "      \"system\": \"windows\"\n",
      "    }\n",
      "  },\n",
      "  \"Build Dependencies\": {\n",
      "    \"blas\": {\n",
      "      \"name\": \"scipy-openblas\",\n",
      "      \"found\": true,\n",
      "      \"version\": \"0.3.29\",\n",
      "      \"detection method\": \"pkgconfig\",\n",
      "      \"include directory\": \"C:/Users/runneradmin/AppData/Local/Temp/cibw-run-9tmma_o0/cp313-win_amd64/build/venv/Lib/site-packages/scipy_openblas64/include\",\n",
      "      \"lib directory\": \"C:/Users/runneradmin/AppData/Local/Temp/cibw-run-9tmma_o0/cp313-win_amd64/build/venv/Lib/site-packages/scipy_openblas64/lib\",\n",
      "      \"openblas configuration\": \"OpenBLAS 0.3.29  USE64BITINT DYNAMIC_ARCH NO_AFFINITY Haswell MAX_THREADS=24\",\n",
      "      \"pc file directory\": \"D:/a/numpy/numpy/.openblas\"\n",
      "    },\n",
      "    \"lapack\": {\n",
      "      \"name\": \"scipy-openblas\",\n",
      "      \"found\": true,\n",
      "      \"version\": \"0.3.29\",\n",
      "      \"detection method\": \"pkgconfig\",\n",
      "      \"include directory\": \"C:/Users/runneradmin/AppData/Local/Temp/cibw-run-9tmma_o0/cp313-win_amd64/build/venv/Lib/site-packages/scipy_openblas64/include\",\n",
      "      \"lib directory\": \"C:/Users/runneradmin/AppData/Local/Temp/cibw-run-9tmma_o0/cp313-win_amd64/build/venv/Lib/site-packages/scipy_openblas64/lib\",\n",
      "      \"openblas configuration\": \"OpenBLAS 0.3.29  USE64BITINT DYNAMIC_ARCH NO_AFFINITY Haswell MAX_THREADS=24\",\n",
      "      \"pc file directory\": \"D:/a/numpy/numpy/.openblas\"\n",
      "    }\n",
      "  },\n",
      "  \"Python Information\": {\n",
      "    \"path\": \"C:\\\\Users\\\\runneradmin\\\\AppData\\\\Local\\\\Temp\\\\build-env-13_2l0e9\\\\Scripts\\\\python.exe\",\n",
      "    \"version\": \"3.13\"\n",
      "  },\n",
      "  \"SIMD Extensions\": {\n",
      "    \"baseline\": [\n",
      "      \"SSE\",\n",
      "      \"SSE2\",\n",
      "      \"SSE3\"\n",
      "    ],\n",
      "    \"found\": [\n",
      "      \"SSSE3\",\n",
      "      \"SSE41\",\n",
      "      \"POPCNT\",\n",
      "      \"SSE42\",\n",
      "      \"AVX\",\n",
      "      \"F16C\",\n",
      "      \"FMA3\",\n",
      "      \"AVX2\"\n",
      "    ],\n",
      "    \"not found\": [\n",
      "      \"AVX512F\",\n",
      "      \"AVX512CD\",\n",
      "      \"AVX512_SKX\",\n",
      "      \"AVX512_CLX\",\n",
      "      \"AVX512_CNL\",\n",
      "      \"AVX512_ICL\"\n",
      "    ]\n",
      "  }\n",
      "}\n"
     ]
    },
    {
     "name": "stderr",
     "output_type": "stream",
     "text": [
      "c:\\Users\\Administrator\\AppData\\Local\\Programs\\Python\\Python313\\Lib\\site-packages\\numpy\\__config__.py:155: UserWarning: Install `pyyaml` for better output\n",
      "  warnings.warn(\"Install `pyyaml` for better output\", stacklevel=1)\n"
     ]
    }
   ],
   "source": [
    "# Print NumPy version\n",
    "print(\"NumPy version:\", np.__version__)\n",
    "\n",
    "# Print configuration\n",
    "np.show_config()"
   ]
  },
  {
   "cell_type": "markdown",
   "metadata": {},
   "source": [
    "#### 3. Create a null vector of size 10 (★☆☆)"
   ]
  },
  {
   "cell_type": "code",
   "execution_count": 5,
   "metadata": {},
   "outputs": [
    {
     "name": "stdout",
     "output_type": "stream",
     "text": [
      "[0. 0. 0. 0. 0. 0. 0. 0. 0. 0.]\n"
     ]
    },
    {
     "data": {
      "text/plain": [
       "10"
      ]
     },
     "execution_count": 5,
     "metadata": {},
     "output_type": "execute_result"
    }
   ],
   "source": [
    "# null vector =  a vector where all elements are zero\n",
    "null_vector = np.zeros(10)\n",
    "print(null_vector)\n",
    "np.size (null_vector)"
   ]
  },
  {
   "cell_type": "markdown",
   "metadata": {},
   "source": [
    "#### 4. How to find the memory size of any array (★☆☆)"
   ]
  },
  {
   "cell_type": "code",
   "execution_count": null,
   "metadata": {},
   "outputs": [
    {
     "name": "stdout",
     "output_type": "stream",
     "text": [
      "[0. 0. 0. 0. 0. 0. 0. 0. 0. 0.]\n",
      "Memory size in bytes: 80\n",
      "Memory size in bytes: 80\n"
     ]
    }
   ],
   "source": [
    "arr = np.zeros(10)\n",
    "print (arr)\n",
    "#Array creation functions (zeros, ones, empty) default to float64\n",
    "\n",
    "#.nbytes: Total bytes consumed by the array data\n",
    "#.size: Total number of elements\n",
    "#.itemsize: Size in bytes of each element\n",
    "\n",
    "print(\"Memory size in bytes:\", arr.nbytes)\n",
    "\n",
    "print(\"Memory size in bytes:\", arr.size * arr.itemsize)\n"
   ]
  },
  {
   "cell_type": "markdown",
   "metadata": {},
   "source": [
    "#### 5. How to get the documentation of the numpy add function from the command line? (★☆☆)"
   ]
  },
  {
   "cell_type": "code",
   "execution_count": 15,
   "metadata": {},
   "outputs": [
    {
     "name": "stdout",
     "output_type": "stream",
     "text": [
      "Help on ufunc in module numpy:\n",
      "\n",
      "add = <ufunc 'add'>\n",
      "    add(x1, x2, /, out=None, *, where=True, casting='same_kind', order='K', dtype=None, subok=True[, signature])\n",
      "\n",
      "    Add arguments element-wise.\n",
      "\n",
      "    Parameters\n",
      "    ----------\n",
      "    x1, x2 : array_like\n",
      "        The arrays to be added.\n",
      "        If ``x1.shape != x2.shape``, they must be broadcastable to a common\n",
      "        shape (which becomes the shape of the output).\n",
      "    out : ndarray, None, or tuple of ndarray and None, optional\n",
      "        A location into which the result is stored. If provided, it must have\n",
      "        a shape that the inputs broadcast to. If not provided or None,\n",
      "        a freshly-allocated array is returned. A tuple (possible only as a\n",
      "        keyword argument) must have length equal to the number of outputs.\n",
      "    where : array_like, optional\n",
      "        This condition is broadcast over the input. At locations where the\n",
      "        condition is True, the `out` array will be set to the ufunc result.\n",
      "        Elsewhere, the `out` array will retain its original value.\n",
      "        Note that if an uninitialized `out` array is created via the default\n",
      "        ``out=None``, locations within it where the condition is False will\n",
      "        remain uninitialized.\n",
      "    **kwargs\n",
      "        For other keyword-only arguments, see the\n",
      "        :ref:`ufunc docs <ufuncs.kwargs>`.\n",
      "\n",
      "    Returns\n",
      "    -------\n",
      "    add : ndarray or scalar\n",
      "        The sum of `x1` and `x2`, element-wise.\n",
      "        This is a scalar if both `x1` and `x2` are scalars.\n",
      "\n",
      "    Notes\n",
      "    -----\n",
      "    Equivalent to `x1` + `x2` in terms of array broadcasting.\n",
      "\n",
      "    Examples\n",
      "    --------\n",
      "    >>> import numpy as np\n",
      "    >>> np.add(1.0, 4.0)\n",
      "    5.0\n",
      "    >>> x1 = np.arange(9.0).reshape((3, 3))\n",
      "    >>> x2 = np.arange(3.0)\n",
      "    >>> np.add(x1, x2)\n",
      "    array([[  0.,   2.,   4.],\n",
      "           [  3.,   5.,   7.],\n",
      "           [  6.,   8.,  10.]])\n",
      "\n",
      "    The ``+`` operator can be used as a shorthand for ``np.add`` on ndarrays.\n",
      "\n",
      "    >>> x1 = np.arange(9.0).reshape((3, 3))\n",
      "    >>> x2 = np.arange(3.0)\n",
      "    >>> x1 + x2\n",
      "    array([[ 0.,  2.,  4.],\n",
      "           [ 3.,  5.,  7.],\n",
      "           [ 6.,  8., 10.]])\n",
      "\n"
     ]
    }
   ],
   "source": [
    "\n",
    "help(np.add)\n",
    "\n",
    "#The signature tells you exactly how you're allowed to call the function and what parameters are available!"
   ]
  },
  {
   "cell_type": "markdown",
   "metadata": {},
   "source": [
    "#### 6. Create a null vector of size 10 but the fifth value which is 1 (★☆☆)"
   ]
  },
  {
   "cell_type": "code",
   "execution_count": 16,
   "metadata": {},
   "outputs": [
    {
     "name": "stdout",
     "output_type": "stream",
     "text": [
      "[0. 0. 0. 0. 0. 0. 0. 0. 0. 0.]\n",
      "[0. 0. 0. 0. 1. 0. 0. 0. 0. 0.]\n"
     ]
    }
   ],
   "source": [
    "arr2 = np.zeros(10)\n",
    "print (arr2)\n",
    "arr2[4] = 1\n",
    "print (arr2)"
   ]
  },
  {
   "cell_type": "markdown",
   "metadata": {},
   "source": [
    "#### 7. Create a vector with values ranging from 10 to 49 (★☆☆)\n",
    " vector is simply a 1-dimensional array - a list of numbers arranged in a single row or colum"
   ]
  },
  {
   "cell_type": "code",
   "execution_count": 18,
   "metadata": {},
   "outputs": [
    {
     "name": "stdout",
     "output_type": "stream",
     "text": [
      "[10 11 12 13 14 15 16 17 18 19 20 21 22 23 24 25 26 27 28 29 30 31 32 33\n",
      " 34 35 36 37 38 39 40 41 42 43 44 45 46 47 48 49]\n"
     ]
    }
   ],
   "source": [
    "arr4 = np.arange(10, 50)\n",
    "print(arr4)"
   ]
  },
  {
   "cell_type": "markdown",
   "metadata": {},
   "source": [
    "#### 8. Reverse a vector (first element becomes last) (★☆☆)"
   ]
  },
  {
   "cell_type": "code",
   "execution_count": 19,
   "metadata": {},
   "outputs": [
    {
     "data": {
      "text/plain": [
       "array([49, 48, 47, 46, 45, 44, 43, 42, 41, 40, 39, 38, 37, 36, 35, 34, 33,\n",
       "       32, 31, 30, 29, 28, 27, 26, 25, 24, 23, 22, 21, 20, 19, 18, 17, 16,\n",
       "       15, 14, 13, 12, 11, 10])"
      ]
     },
     "execution_count": 19,
     "metadata": {},
     "output_type": "execute_result"
    }
   ],
   "source": [
    "arr4 [::-1]"
   ]
  },
  {
   "cell_type": "markdown",
   "metadata": {},
   "source": [
    "#### 9. Create a 3x3 matrix with values ranging from 0 to 8 (★☆☆)"
   ]
  },
  {
   "cell_type": "code",
   "execution_count": 23,
   "metadata": {},
   "outputs": [
    {
     "name": "stdout",
     "output_type": "stream",
     "text": [
      "[0 1 2 3 4 5 6 7 8]\n",
      "9\n",
      "[[0 1 2]\n",
      " [3 4 5]\n",
      " [6 7 8]]\n"
     ]
    }
   ],
   "source": [
    "matrix = np.arange(9)\n",
    "print(matrix)\n",
    "print (np.size(matrix))\n",
    "matrix2= matrix.reshape(3, 3)\n",
    "print(matrix2)"
   ]
  },
  {
   "cell_type": "markdown",
   "metadata": {},
   "source": [
    "#### 10. Find indices of non-zero elements from [1,2,0,0,4,0] (★☆☆)"
   ]
  },
  {
   "cell_type": "code",
   "execution_count": 25,
   "metadata": {},
   "outputs": [
    {
     "name": "stdout",
     "output_type": "stream",
     "text": [
      "Indices: [0 1 4]\n"
     ]
    }
   ],
   "source": [
    "# Create the array\n",
    "arr5 = np.array([1, 2, 0, 0, 4, 0])\n",
    "\n",
    "# nonzero() elements\n",
    "indices = np.nonzero(arr5)\n",
    "print(\"Indices:\", indices[0])"
   ]
  },
  {
   "cell_type": "markdown",
   "metadata": {},
   "source": [
    "#### 11. Create a 3x3 identity matrix (★☆☆)"
   ]
  },
  {
   "cell_type": "code",
   "execution_count": 26,
   "metadata": {},
   "outputs": [
    {
     "name": "stdout",
     "output_type": "stream",
     "text": [
      "[[1. 0. 0.]\n",
      " [0. 1. 0.]\n",
      " [0. 0. 1.]]\n"
     ]
    }
   ],
   "source": [
    "identity_matrix= np.eye(3)\n",
    "print(identity_matrix)"
   ]
  },
  {
   "cell_type": "markdown",
   "metadata": {},
   "source": [
    "#### 12. Create a 3x3x3 array with random values (★☆☆)"
   ]
  },
  {
   "cell_type": "code",
   "execution_count": null,
   "metadata": {},
   "outputs": [
    {
     "name": "stdout",
     "output_type": "stream",
     "text": [
      "[[[0.55293997 0.71065361 0.44894114]\n",
      "  [0.87711288 0.49017259 0.564482  ]\n",
      "  [0.50911998 0.08083818 0.05350959]]\n",
      "\n",
      " [[0.51728551 0.06786749 0.25414244]\n",
      "  [0.13627043 0.74371434 0.92339954]\n",
      "  [0.38296909 0.46408796 0.82889287]]\n",
      "\n",
      " [[0.55468847 0.30030125 0.78780491]\n",
      "  [0.72151885 0.8737857  0.1571338 ]\n",
      "  [0.84338948 0.42402967 0.84740723]]]\n"
     ]
    }
   ],
   "source": [
    "# Create a 3x3x3 array with random values\n",
    "array = np.random.rand(3, 3, 3)\n",
    "\n",
    "print(array)"
   ]
  },
  {
   "cell_type": "code",
   "execution_count": 39,
   "metadata": {},
   "outputs": [
    {
     "name": "stdout",
     "output_type": "stream",
     "text": [
      "[[[8 8 0]\n",
      "  [1 9 9]\n",
      "  [7 4 5]]\n",
      "\n",
      " [[8 4 5]\n",
      "  [1 0 2]\n",
      "  [7 6 2]]\n",
      "\n",
      " [[0 2 4]\n",
      "  [9 2 5]\n",
      "  [5 8 4]]]\n"
     ]
    }
   ],
   "source": [
    "# Create a 3x3x3 array with random integers between 0 and 10 \n",
    "array = np.random.randint(0, 10, size=(3, 3, 3))\n",
    "\n",
    "print(array)\n"
   ]
  },
  {
   "cell_type": "markdown",
   "metadata": {},
   "source": [
    "#### 13. Create a 10x10 array with random values and find the minimum and maximum values (★☆☆)"
   ]
  },
  {
   "cell_type": "code",
   "execution_count": 33,
   "metadata": {},
   "outputs": [
    {
     "name": "stdout",
     "output_type": "stream",
     "text": [
      "Array:\n",
      " [[32 62  6 82 61 61 34  9 17 50]\n",
      " [26 94 86 53 18 14 10 99 51 82]\n",
      " [57 96 84 60  6 74 58 13 24 48]\n",
      " [95 86 85  6 71 77 64 74 37 15]\n",
      " [ 1 80 86 17 89 60 82 63 99 36]\n",
      " [50 39 92 83 38 58 78  5 95 72]\n",
      " [ 3 92 71 52 90  2 18 82 77 86]\n",
      " [ 5 24  3  1 17 89 48 64 76  0]\n",
      " [67  4 57 56 84 81 49 54 61 58]\n",
      " [36 55 93 45 31 99 50 20 86 32]]\n",
      "Minimum value: 0\n",
      "Maximum value: 99\n"
     ]
    }
   ],
   "source": [
    "# Create a 10x10 array with random integers from 0 to 100 (exclusive)\n",
    "array = np.random.randint(0, 100, size=(10, 10))\n",
    "\n",
    "# Find minimum and maximum values\n",
    "min_val = array.min()\n",
    "max_val = array.max()\n",
    "\n",
    "print(\"Array:\\n\", array)\n",
    "print(\"Minimum value:\", min_val)\n",
    "print(\"Maximum value:\", max_val)\n"
   ]
  },
  {
   "cell_type": "markdown",
   "metadata": {},
   "source": [
    "#### 14. Create a random vector of size 30 and find the mean value (★☆☆)"
   ]
  },
  {
   "cell_type": "code",
   "execution_count": 37,
   "metadata": {},
   "outputs": [
    {
     "name": "stdout",
     "output_type": "stream",
     "text": [
      "30\n",
      "Vector:\n",
      " [96 42 57 37  5 24  1 12  1 98 46 15 89 88 19 88 32 76 87 29 16 24 68 99\n",
      " 66 13 67 73 40  4]\n",
      "Mean value: 47.06666666666667\n"
     ]
    }
   ],
   "source": [
    "vector = np.random.randint(0, 100, size=30)\n",
    "mean_val = vector.mean()\n",
    "\n",
    "print(np.size(vector))\n",
    "print(\"Vector:\\n\", vector)\n",
    "print(\"Mean value:\", mean_val)"
   ]
  },
  {
   "cell_type": "markdown",
   "metadata": {},
   "source": [
    "#### 15. Create a 2d array with 1 on the border and 0 inside (★☆☆)"
   ]
  },
  {
   "cell_type": "code",
   "execution_count": 38,
   "metadata": {},
   "outputs": [
    {
     "name": "stdout",
     "output_type": "stream",
     "text": [
      "[[1 1 1 1 1]\n",
      " [1 0 0 0 1]\n",
      " [1 0 0 0 1]\n",
      " [1 0 0 0 1]\n",
      " [1 1 1 1 1]]\n"
     ]
    }
   ],
   "source": [
    "# Create a 5x5 array filled with 1s\n",
    "array = np.ones((5, 5), dtype=int)\n",
    "\n",
    "# Set the inner elements to 0\n",
    "array[1:-1, 1:-1] = 0\n",
    "\n",
    "print(array)"
   ]
  }
 ],
 "metadata": {
  "kernelspec": {
   "display_name": "Python 3",
   "language": "python",
   "name": "python3"
  },
  "language_info": {
   "codemirror_mode": {
    "name": "ipython",
    "version": 3
   },
   "file_extension": ".py",
   "mimetype": "text/x-python",
   "name": "python",
   "nbconvert_exporter": "python",
   "pygments_lexer": "ipython3",
   "version": "3.13.4"
  }
 },
 "nbformat": 4,
 "nbformat_minor": 4
}
